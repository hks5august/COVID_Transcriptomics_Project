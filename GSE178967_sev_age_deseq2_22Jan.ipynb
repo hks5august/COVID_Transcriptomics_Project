{
  "nbformat": 4,
  "nbformat_minor": 0,
  "metadata": {
    "colab": {
      "name": "GSE178967_sev_age_deseq2_22Jan.ipynb",
      "provenance": [],
      "collapsed_sections": []
    },
    "kernelspec": {
      "name": "ir",
      "display_name": "R"
    },
    "language_info": {
      "name": "R"
    }
  },
  "cells": [
    {
      "cell_type": "code",
      "source": [
        "#GSE178967_genecol_NArem_Aggregated_nzv_180samples_35587genes\n",
        "Data <- read.table(\"/content/GSE178967_genecol_NArem_Aggregated_nzv_round.txt\", header = TRUE, sep = \"\\t\", check.names = FALSE, row.names=1)"
      ],
      "metadata": {
        "id": "btFaRtgmPBrf"
      },
      "execution_count": null,
      "outputs": []
    },
    {
      "cell_type": "markdown",
      "source": [
        "6 SAMPLES: 2 BELOW 45 4 ABOVE 45"
      ],
      "metadata": {
        "id": "kFcbOoZPFo22"
      }
    },
    {
      "cell_type": "code",
      "source": [
        "which(colnames(Data) %in% c(\"L_301_00\", \"L_303_00\", \"L_325_00\", \"L_329_00\", \"L_118_00\", \"L_311_00\"))"
      ],
      "metadata": {
        "colab": {
          "base_uri": "https://localhost:8080/",
          "height": 34
        },
        "id": "gjQ0tlSTPYHs",
        "outputId": "161c1ccf-dc20-41c9-dbbe-d86cae1bb590"
      },
      "execution_count": null,
      "outputs": [
        {
          "output_type": "display_data",
          "data": {
            "text/plain": [
              "[1]   9  18  70  97 115 175"
            ],
            "text/latex": "\\begin{enumerate*}\n\\item 9\n\\item 18\n\\item 70\n\\item 97\n\\item 115\n\\item 175\n\\end{enumerate*}\n",
            "text/markdown": "1. 9\n2. 18\n3. 70\n4. 97\n5. 115\n6. 175\n\n\n",
            "text/html": [
              "<style>\n",
              ".list-inline {list-style: none; margin:0; padding: 0}\n",
              ".list-inline>li {display: inline-block}\n",
              ".list-inline>li:not(:last-child)::after {content: \"\\00b7\"; padding: 0 .5ex}\n",
              "</style>\n",
              "<ol class=list-inline><li>9</li><li>18</li><li>70</li><li>97</li><li>115</li><li>175</li></ol>\n"
            ]
          },
          "metadata": {}
        }
      ]
    },
    {
      "cell_type": "code",
      "source": [
        "GSE178967_severe_asymp_deseq2input<- Data[,c(9,18,70,97,115,175)]"
      ],
      "metadata": {
        "id": "F0W0L0RLPbP3"
      },
      "execution_count": null,
      "outputs": []
    },
    {
      "cell_type": "code",
      "source": [
        "head(GSE178967_severe_asymp_deseq2input)"
      ],
      "metadata": {
        "colab": {
          "base_uri": "https://localhost:8080/",
          "height": 286
        },
        "id": "N6iSuJSWRvXL",
        "outputId": "1028ee32-e60d-4068-9fef-dea3629fa3d8"
      },
      "execution_count": null,
      "outputs": [
        {
          "output_type": "display_data",
          "data": {
            "text/plain": [
              "        L_329_00 L_301_00 L_325_00 L_118_00 L_311_00 L_303_00\n",
              "A1BG    14        8       12       34       26        36     \n",
              "A1CF     1        1        1        2        2         3     \n",
              "A2M     22       34       12       80       25       125     \n",
              "A2ML1    3        1        1        4        5         7     \n",
              "A2MP1    6       16        3       46       15        58     \n",
              "A3GALT2  0        0        0        3        7         2     "
            ],
            "text/latex": "A data.frame: 6 × 6\n\\begin{tabular}{r|llllll}\n  & L\\_329\\_00 & L\\_301\\_00 & L\\_325\\_00 & L\\_118\\_00 & L\\_311\\_00 & L\\_303\\_00\\\\\n  & <int> & <int> & <int> & <int> & <int> & <int>\\\\\n\\hline\n\tA1BG & 14 &  8 & 12 & 34 & 26 &  36\\\\\n\tA1CF &  1 &  1 &  1 &  2 &  2 &   3\\\\\n\tA2M & 22 & 34 & 12 & 80 & 25 & 125\\\\\n\tA2ML1 &  3 &  1 &  1 &  4 &  5 &   7\\\\\n\tA2MP1 &  6 & 16 &  3 & 46 & 15 &  58\\\\\n\tA3GALT2 &  0 &  0 &  0 &  3 &  7 &   2\\\\\n\\end{tabular}\n",
            "text/markdown": "\nA data.frame: 6 × 6\n\n| <!--/--> | L_329_00 &lt;int&gt; | L_301_00 &lt;int&gt; | L_325_00 &lt;int&gt; | L_118_00 &lt;int&gt; | L_311_00 &lt;int&gt; | L_303_00 &lt;int&gt; |\n|---|---|---|---|---|---|---|\n| A1BG | 14 |  8 | 12 | 34 | 26 |  36 |\n| A1CF |  1 |  1 |  1 |  2 |  2 |   3 |\n| A2M | 22 | 34 | 12 | 80 | 25 | 125 |\n| A2ML1 |  3 |  1 |  1 |  4 |  5 |   7 |\n| A2MP1 |  6 | 16 |  3 | 46 | 15 |  58 |\n| A3GALT2 |  0 |  0 |  0 |  3 |  7 |   2 |\n\n",
            "text/html": [
              "<table class=\"dataframe\">\n",
              "<caption>A data.frame: 6 × 6</caption>\n",
              "<thead>\n",
              "\t<tr><th></th><th scope=col>L_329_00</th><th scope=col>L_301_00</th><th scope=col>L_325_00</th><th scope=col>L_118_00</th><th scope=col>L_311_00</th><th scope=col>L_303_00</th></tr>\n",
              "\t<tr><th></th><th scope=col>&lt;int&gt;</th><th scope=col>&lt;int&gt;</th><th scope=col>&lt;int&gt;</th><th scope=col>&lt;int&gt;</th><th scope=col>&lt;int&gt;</th><th scope=col>&lt;int&gt;</th></tr>\n",
              "</thead>\n",
              "<tbody>\n",
              "\t<tr><th scope=row>A1BG</th><td>14</td><td> 8</td><td>12</td><td>34</td><td>26</td><td> 36</td></tr>\n",
              "\t<tr><th scope=row>A1CF</th><td> 1</td><td> 1</td><td> 1</td><td> 2</td><td> 2</td><td>  3</td></tr>\n",
              "\t<tr><th scope=row>A2M</th><td>22</td><td>34</td><td>12</td><td>80</td><td>25</td><td>125</td></tr>\n",
              "\t<tr><th scope=row>A2ML1</th><td> 3</td><td> 1</td><td> 1</td><td> 4</td><td> 5</td><td>  7</td></tr>\n",
              "\t<tr><th scope=row>A2MP1</th><td> 6</td><td>16</td><td> 3</td><td>46</td><td>15</td><td> 58</td></tr>\n",
              "\t<tr><th scope=row>A3GALT2</th><td> 0</td><td> 0</td><td> 0</td><td> 3</td><td> 7</td><td>  2</td></tr>\n",
              "</tbody>\n",
              "</table>\n"
            ]
          },
          "metadata": {}
        }
      ]
    },
    {
      "cell_type": "code",
      "source": [
        "#write the file WITH FIRST AS ID.\n",
        "write.table(data.frame('ID'=rownames(GSE178967_severe_asymp_deseq2input), GSE178967_severe_asymp_deseq2input),file=\"GSE178967_severe_asymp_deseq2input.txt\",sep='\\t',quote = F,row.names = FALSE)"
      ],
      "metadata": {
        "id": "M7Fq5sHqiGYR"
      },
      "execution_count": null,
      "outputs": []
    },
    {
      "cell_type": "code",
      "source": [
        "#GSE178967_genecol_NArem_Aggregated_nzv_15 SAMPLES_SEVERE_ASYMP\n",
        "GSE178967_severe_asymp_deseq2input <- read.table(\"/content/GSE178967_severe_asymp_deseq2input.txt\", header = TRUE, sep = \"\\t\", check.names = FALSE)"
      ],
      "metadata": {
        "id": "GBQNt_dPiXAD"
      },
      "execution_count": null,
      "outputs": []
    },
    {
      "cell_type": "code",
      "source": [
        "#create the metadata file or load it. \n",
        "\n",
        "metaData <- read.table(\"/content/META.txt\", header = TRUE, sep = \"\\t\")"
      ],
      "metadata": {
        "id": "gjO-MHzjUCdf"
      },
      "execution_count": null,
      "outputs": []
    },
    {
      "cell_type": "code",
      "source": [
        "metaData"
      ],
      "metadata": {
        "colab": {
          "base_uri": "https://localhost:8080/",
          "height": 286
        },
        "id": "qvyYm_KOUGDX",
        "outputId": "654fc72d-95a2-487f-ef3e-e05fa10297a4"
      },
      "execution_count": null,
      "outputs": [
        {
          "output_type": "display_data",
          "data": {
            "text/plain": [
              "  ID       AGE     \n",
              "1 L_325_00 below_45\n",
              "2 L_301_00 below_45\n",
              "3 L_329_00 above_45\n",
              "4 L_303_00 above_45\n",
              "5 L_118_00 above_45\n",
              "6 L_311_00 above_45"
            ],
            "text/latex": "A data.frame: 6 × 2\n\\begin{tabular}{ll}\n ID & AGE\\\\\n <chr> & <chr>\\\\\n\\hline\n\t L\\_325\\_00 & below\\_45\\\\\n\t L\\_301\\_00 & below\\_45\\\\\n\t L\\_329\\_00 & above\\_45\\\\\n\t L\\_303\\_00 & above\\_45\\\\\n\t L\\_118\\_00 & above\\_45\\\\\n\t L\\_311\\_00 & above\\_45\\\\\n\\end{tabular}\n",
            "text/markdown": "\nA data.frame: 6 × 2\n\n| ID &lt;chr&gt; | AGE &lt;chr&gt; |\n|---|---|\n| L_325_00 | below_45 |\n| L_301_00 | below_45 |\n| L_329_00 | above_45 |\n| L_303_00 | above_45 |\n| L_118_00 | above_45 |\n| L_311_00 | above_45 |\n\n",
            "text/html": [
              "<table class=\"dataframe\">\n",
              "<caption>A data.frame: 6 × 2</caption>\n",
              "<thead>\n",
              "\t<tr><th scope=col>ID</th><th scope=col>AGE</th></tr>\n",
              "\t<tr><th scope=col>&lt;chr&gt;</th><th scope=col>&lt;chr&gt;</th></tr>\n",
              "</thead>\n",
              "<tbody>\n",
              "\t<tr><td>L_325_00</td><td>below_45</td></tr>\n",
              "\t<tr><td>L_301_00</td><td>below_45</td></tr>\n",
              "\t<tr><td>L_329_00</td><td>above_45</td></tr>\n",
              "\t<tr><td>L_303_00</td><td>above_45</td></tr>\n",
              "\t<tr><td>L_118_00</td><td>above_45</td></tr>\n",
              "\t<tr><td>L_311_00</td><td>above_45</td></tr>\n",
              "</tbody>\n",
              "</table>\n"
            ]
          },
          "metadata": {}
        }
      ]
    },
    {
      "cell_type": "code",
      "source": [
        "#INSTALL PACKAGES\n",
        "\n",
        "if (!requireNamespace(\"BiocManager\", quietly = TRUE))\n",
        "  install.packages(\"BiocManager\")"
      ],
      "metadata": {
        "colab": {
          "base_uri": "https://localhost:8080/"
        },
        "id": "zg7xqbW_UJbO",
        "outputId": "e61255c0-af2c-46ee-c4bf-a814e55378b4"
      },
      "execution_count": null,
      "outputs": [
        {
          "output_type": "stream",
          "name": "stderr",
          "text": [
            "Installing package into ‘/usr/local/lib/R/site-library’\n",
            "(as ‘lib’ is unspecified)\n",
            "\n"
          ]
        }
      ]
    },
    {
      "cell_type": "code",
      "source": [
        "#LOAD PACKAGES\n",
        "\n",
        "BiocManager::install(\"GenomeInfoDbData\")\n",
        "BiocManager::install(\"DESeq2\")"
      ],
      "metadata": {
        "colab": {
          "base_uri": "https://localhost:8080/"
        },
        "id": "D0dOfw_TUNEQ",
        "outputId": "f3cba93f-aa5f-4aa9-c781-94e1ad0eeecf"
      },
      "execution_count": null,
      "outputs": [
        {
          "output_type": "stream",
          "name": "stderr",
          "text": [
            "'getOption(\"repos\")' replaces Bioconductor standard repositories, see\n",
            "'?repositories' for details\n",
            "\n",
            "replacement repositories:\n",
            "    CRAN: https://cran.rstudio.com\n",
            "\n",
            "\n",
            "Bioconductor version 3.14 (BiocManager 1.30.16), R 4.1.2 (2021-11-01)\n",
            "\n",
            "Installing package(s) 'BiocVersion', 'GenomeInfoDbData'\n",
            "\n",
            "Old packages: 'broom', 'cli', 'dtplyr', 'fansi', 'gert', 'jsonlite', 'Rcpp',\n",
            "  'testthat', 'class', 'foreign', 'MASS', 'nlme', 'nnet', 'spatial'\n",
            "\n",
            "'getOption(\"repos\")' replaces Bioconductor standard repositories, see\n",
            "'?repositories' for details\n",
            "\n",
            "replacement repositories:\n",
            "    CRAN: https://cran.rstudio.com\n",
            "\n",
            "\n",
            "Bioconductor version 3.14 (BiocManager 1.30.16), R 4.1.2 (2021-11-01)\n",
            "\n",
            "Installing package(s) 'DESeq2'\n",
            "\n",
            "also installing the dependencies ‘bitops’, ‘formatR’, ‘plogr’, ‘png’, ‘Biostrings’, ‘RCurl’, ‘zlibbioc’, ‘matrixStats’, ‘lambda.r’, ‘futile.options’, ‘RSQLite’, ‘KEGGREST’, ‘XML’, ‘xtable’, ‘GenomeInfoDb’, ‘XVector’, ‘MatrixGenerics’, ‘DelayedArray’, ‘futile.logger’, ‘snow’, ‘BH’, ‘AnnotationDbi’, ‘annotate’, ‘S4Vectors’, ‘IRanges’, ‘GenomicRanges’, ‘SummarizedExperiment’, ‘BiocGenerics’, ‘Biobase’, ‘BiocParallel’, ‘genefilter’, ‘locfit’, ‘geneplotter’, ‘RcppArmadillo’\n",
            "\n",
            "\n",
            "Old packages: 'broom', 'cli', 'dtplyr', 'fansi', 'gert', 'jsonlite', 'Rcpp',\n",
            "  'testthat', 'class', 'foreign', 'MASS', 'nlme', 'nnet', 'spatial'\n",
            "\n"
          ]
        }
      ]
    },
    {
      "cell_type": "code",
      "source": [
        "library(DESeq2)\n",
        "library(ggplot2)"
      ],
      "metadata": {
        "id": "Q76nLEpc3qQd"
      },
      "execution_count": null,
      "outputs": []
    },
    {
      "cell_type": "code",
      "source": [
        "deseq2Data <- DESeqDataSetFromMatrix(countData=GSE178967_severe_asymp_deseq2input, colData=metaData, design=~AGE, tidy = TRUE)"
      ],
      "metadata": {
        "colab": {
          "base_uri": "https://localhost:8080/"
        },
        "id": "kR_9RsSPUPw9",
        "outputId": "1c233877-9bac-4df2-ea69-2911d41972b9"
      },
      "execution_count": null,
      "outputs": [
        {
          "output_type": "stream",
          "name": "stderr",
          "text": [
            "Warning message in DESeqDataSet(se, design = design, ignoreRank):\n",
            "“some variables in design formula are characters, converting to factors”\n"
          ]
        }
      ]
    },
    {
      "cell_type": "code",
      "source": [
        "#VIEW\n",
        "deseq2Data"
      ],
      "metadata": {
        "colab": {
          "base_uri": "https://localhost:8080/",
          "height": 156
        },
        "id": "kvqYjRF0UTEX",
        "outputId": "a2258bcc-03db-4e83-dd2d-7a8c0ef5bf63"
      },
      "execution_count": null,
      "outputs": [
        {
          "output_type": "display_data",
          "data": {
            "text/plain": [
              "class: DESeqDataSet \n",
              "dim: 35587 6 \n",
              "metadata(1): version\n",
              "assays(1): counts\n",
              "rownames(35587): A1BG A1CF ... ZYXP1 ZZEF1\n",
              "rowData names(0):\n",
              "colnames(6): L_329_00 L_301_00 ... L_311_00 L_303_00\n",
              "colData names(2): ID AGE"
            ]
          },
          "metadata": {}
        }
      ]
    },
    {
      "cell_type": "code",
      "source": [
        "dds <- DESeq(deseq2Data)"
      ],
      "metadata": {
        "colab": {
          "base_uri": "https://localhost:8080/"
        },
        "id": "vwNinNGBUV5W",
        "outputId": "f76b02f1-42b3-4bf0-a0c9-9ee3ee5bd11c"
      },
      "execution_count": null,
      "outputs": [
        {
          "output_type": "stream",
          "name": "stderr",
          "text": [
            "estimating size factors\n",
            "\n",
            "estimating dispersions\n",
            "\n",
            "gene-wise dispersion estimates\n",
            "\n",
            "mean-dispersion relationship\n",
            "\n",
            "final dispersion estimates\n",
            "\n",
            "fitting model and testing\n",
            "\n"
          ]
        }
      ]
    },
    {
      "cell_type": "code",
      "source": [
        "res <- results(dds)"
      ],
      "metadata": {
        "id": "85zMB7PZUYjr"
      },
      "execution_count": null,
      "outputs": []
    },
    {
      "cell_type": "code",
      "source": [
        "head(results(dds, tidy=TRUE))"
      ],
      "metadata": {
        "colab": {
          "base_uri": "https://localhost:8080/",
          "height": 286
        },
        "id": "P9n1yxhNUbFt",
        "outputId": "50542e3f-08d0-4cad-d7a3-a61a3e903661"
      },
      "execution_count": null,
      "outputs": [
        {
          "output_type": "display_data",
          "data": {
            "text/plain": [
              "  row     baseMean  log2FoldChange lfcSE     stat       pvalue    padj     \n",
              "1 A1BG    19.872696 -0.7363877     0.6587649 -1.1178308 0.2636393 0.9998755\n",
              "2 A1CF     1.686288 -0.3486918     1.7716103 -0.1968220 0.8439669 0.9998755\n",
              "3 A2M     43.894260  0.2666862     0.7516146  0.3548178 0.7227261 0.9998755\n",
              "4 A2ML1    2.831208 -0.6295263     1.3790999 -0.4564762 0.6480476 0.9998755\n",
              "5 A2MP1   20.227250  0.1139959     0.9254588  0.1231777 0.9019664 0.9998755\n",
              "6 A3GALT2  1.414965 -3.2768629     2.4489961 -1.3380433 0.1808823 0.9998755"
            ],
            "text/latex": "A data.frame: 6 × 7\n\\begin{tabular}{r|lllllll}\n  & row & baseMean & log2FoldChange & lfcSE & stat & pvalue & padj\\\\\n  & <chr> & <dbl> & <dbl> & <dbl> & <dbl> & <dbl> & <dbl>\\\\\n\\hline\n\t1 & A1BG    & 19.872696 & -0.7363877 & 0.6587649 & -1.1178308 & 0.2636393 & 0.9998755\\\\\n\t2 & A1CF    &  1.686288 & -0.3486918 & 1.7716103 & -0.1968220 & 0.8439669 & 0.9998755\\\\\n\t3 & A2M     & 43.894260 &  0.2666862 & 0.7516146 &  0.3548178 & 0.7227261 & 0.9998755\\\\\n\t4 & A2ML1   &  2.831208 & -0.6295263 & 1.3790999 & -0.4564762 & 0.6480476 & 0.9998755\\\\\n\t5 & A2MP1   & 20.227250 &  0.1139959 & 0.9254588 &  0.1231777 & 0.9019664 & 0.9998755\\\\\n\t6 & A3GALT2 &  1.414965 & -3.2768629 & 2.4489961 & -1.3380433 & 0.1808823 & 0.9998755\\\\\n\\end{tabular}\n",
            "text/markdown": "\nA data.frame: 6 × 7\n\n| <!--/--> | row &lt;chr&gt; | baseMean &lt;dbl&gt; | log2FoldChange &lt;dbl&gt; | lfcSE &lt;dbl&gt; | stat &lt;dbl&gt; | pvalue &lt;dbl&gt; | padj &lt;dbl&gt; |\n|---|---|---|---|---|---|---|---|\n| 1 | A1BG    | 19.872696 | -0.7363877 | 0.6587649 | -1.1178308 | 0.2636393 | 0.9998755 |\n| 2 | A1CF    |  1.686288 | -0.3486918 | 1.7716103 | -0.1968220 | 0.8439669 | 0.9998755 |\n| 3 | A2M     | 43.894260 |  0.2666862 | 0.7516146 |  0.3548178 | 0.7227261 | 0.9998755 |\n| 4 | A2ML1   |  2.831208 | -0.6295263 | 1.3790999 | -0.4564762 | 0.6480476 | 0.9998755 |\n| 5 | A2MP1   | 20.227250 |  0.1139959 | 0.9254588 |  0.1231777 | 0.9019664 | 0.9998755 |\n| 6 | A3GALT2 |  1.414965 | -3.2768629 | 2.4489961 | -1.3380433 | 0.1808823 | 0.9998755 |\n\n",
            "text/html": [
              "<table class=\"dataframe\">\n",
              "<caption>A data.frame: 6 × 7</caption>\n",
              "<thead>\n",
              "\t<tr><th></th><th scope=col>row</th><th scope=col>baseMean</th><th scope=col>log2FoldChange</th><th scope=col>lfcSE</th><th scope=col>stat</th><th scope=col>pvalue</th><th scope=col>padj</th></tr>\n",
              "\t<tr><th></th><th scope=col>&lt;chr&gt;</th><th scope=col>&lt;dbl&gt;</th><th scope=col>&lt;dbl&gt;</th><th scope=col>&lt;dbl&gt;</th><th scope=col>&lt;dbl&gt;</th><th scope=col>&lt;dbl&gt;</th><th scope=col>&lt;dbl&gt;</th></tr>\n",
              "</thead>\n",
              "<tbody>\n",
              "\t<tr><th scope=row>1</th><td>A1BG   </td><td>19.872696</td><td>-0.7363877</td><td>0.6587649</td><td>-1.1178308</td><td>0.2636393</td><td>0.9998755</td></tr>\n",
              "\t<tr><th scope=row>2</th><td>A1CF   </td><td> 1.686288</td><td>-0.3486918</td><td>1.7716103</td><td>-0.1968220</td><td>0.8439669</td><td>0.9998755</td></tr>\n",
              "\t<tr><th scope=row>3</th><td>A2M    </td><td>43.894260</td><td> 0.2666862</td><td>0.7516146</td><td> 0.3548178</td><td>0.7227261</td><td>0.9998755</td></tr>\n",
              "\t<tr><th scope=row>4</th><td>A2ML1  </td><td> 2.831208</td><td>-0.6295263</td><td>1.3790999</td><td>-0.4564762</td><td>0.6480476</td><td>0.9998755</td></tr>\n",
              "\t<tr><th scope=row>5</th><td>A2MP1  </td><td>20.227250</td><td> 0.1139959</td><td>0.9254588</td><td> 0.1231777</td><td>0.9019664</td><td>0.9998755</td></tr>\n",
              "\t<tr><th scope=row>6</th><td>A3GALT2</td><td> 1.414965</td><td>-3.2768629</td><td>2.4489961</td><td>-1.3380433</td><td>0.1808823</td><td>0.9998755</td></tr>\n",
              "</tbody>\n",
              "</table>\n"
            ]
          },
          "metadata": {}
        }
      ]
    },
    {
      "cell_type": "code",
      "source": [
        "summary(res)"
      ],
      "metadata": {
        "colab": {
          "base_uri": "https://localhost:8080/"
        },
        "id": "j0qF_AGOUdZz",
        "outputId": "f98f5222-5c53-456e-8ca8-30d4ff8ba73c"
      },
      "execution_count": null,
      "outputs": [
        {
          "output_type": "stream",
          "name": "stdout",
          "text": [
            "\n",
            "out of 25958 with nonzero total read count\n",
            "adjusted p-value < 0.1\n",
            "LFC > 0 (up)       : 11, 0.042%\n",
            "LFC < 0 (down)     : 9, 0.035%\n",
            "outliers [1]       : 19, 0.073%\n",
            "low counts [2]     : 0, 0%\n",
            "(mean count < 0)\n",
            "[1] see 'cooksCutoff' argument of ?results\n",
            "[2] see 'independentFiltering' argument of ?results\n",
            "\n"
          ]
        }
      ]
    },
    {
      "cell_type": "code",
      "source": [
        "res <- res[order(res$padj),]\n",
        "head(res)"
      ],
      "metadata": {
        "colab": {
          "base_uri": "https://localhost:8080/",
          "height": 208
        },
        "id": "ET3ZU51NUfea",
        "outputId": "815068c7-2945-49cc-c921-baab04f48f5d"
      },
      "execution_count": null,
      "outputs": [
        {
          "output_type": "display_data",
          "data": {
            "text/plain": [
              "log2 fold change (MLE): AGE below 45 vs above 45 \n",
              "Wald test p-value: AGE below 45 vs above 45 \n",
              "DataFrame with 6 rows and 6 columns\n",
              "            baseMean log2FoldChange     lfcSE      stat      pvalue        padj\n",
              "           <numeric>      <numeric> <numeric> <numeric>   <numeric>   <numeric>\n",
              "S100P      108.70423       -3.08542  0.456366  -6.76085 1.37181e-11 3.55834e-07\n",
              "RIMBP3B     46.73891       -8.25885  1.571342  -5.25592 1.47286e-07 1.91022e-03\n",
              "AL132780.3   7.39586        7.08397  1.410226   5.02329 5.07945e-07 4.28150e-03\n",
              "VNN1       560.72018       -2.72783  0.548560  -4.97271 6.60241e-07 4.28150e-03\n",
              "BAG1       160.19130        2.81439  0.587270   4.79233 1.64853e-06 8.55225e-03\n",
              "PRDX5      231.37343        1.75527  0.369921   4.74499 2.08513e-06 9.01438e-03"
            ]
          },
          "metadata": {}
        }
      ]
    },
    {
      "cell_type": "code",
      "source": [
        "tail(res)"
      ],
      "metadata": {
        "colab": {
          "base_uri": "https://localhost:8080/",
          "height": 208
        },
        "id": "kOI2_hx_UiVo",
        "outputId": "4e1b0cb0-76da-4af0-b89e-197ecaf4364b"
      },
      "execution_count": null,
      "outputs": [
        {
          "output_type": "display_data",
          "data": {
            "text/plain": [
              "log2 fold change (MLE): AGE below 45 vs above 45 \n",
              "Wald test p-value: AGE below 45 vs above 45 \n",
              "DataFrame with 6 rows and 6 columns\n",
              "          baseMean log2FoldChange     lfcSE      stat    pvalue      padj\n",
              "         <numeric>      <numeric> <numeric> <numeric> <numeric> <numeric>\n",
              "ZSCAN5C          0             NA        NA        NA        NA        NA\n",
              "ZSWIM2           0             NA        NA        NA        NA        NA\n",
              "ZSWIM5P1         0             NA        NA        NA        NA        NA\n",
              "ZSWIM5P2         0             NA        NA        NA        NA        NA\n",
              "ZYG11AP1         0             NA        NA        NA        NA        NA\n",
              "ZYXP1            0             NA        NA        NA        NA        NA"
            ]
          },
          "metadata": {}
        }
      ]
    },
    {
      "cell_type": "code",
      "source": [
        "result <-as.data.frame(res)"
      ],
      "metadata": {
        "id": "2_MFtK7EUk2Z"
      },
      "execution_count": null,
      "outputs": []
    },
    {
      "cell_type": "code",
      "source": [
        "dim(result)"
      ],
      "metadata": {
        "colab": {
          "base_uri": "https://localhost:8080/",
          "height": 34
        },
        "id": "Nj1UI2KIUoq2",
        "outputId": "f01194a7-b2af-4b27-f275-3a23c1c21168"
      },
      "execution_count": null,
      "outputs": [
        {
          "output_type": "display_data",
          "data": {
            "text/plain": [
              "[1] 35587     6"
            ],
            "text/latex": "\\begin{enumerate*}\n\\item 35587\n\\item 6\n\\end{enumerate*}\n",
            "text/markdown": "1. 35587\n2. 6\n\n\n",
            "text/html": [
              "<style>\n",
              ".list-inline {list-style: none; margin:0; padding: 0}\n",
              ".list-inline>li {display: inline-block}\n",
              ".list-inline>li:not(:last-child)::after {content: \"\\00b7\"; padding: 0 .5ex}\n",
              "</style>\n",
              "<ol class=list-inline><li>35587</li><li>6</li></ol>\n"
            ]
          },
          "metadata": {}
        }
      ]
    },
    {
      "cell_type": "code",
      "source": [
        "#wrie the file so that we can \n",
        "write.table(result,file=\"/content/GSE178967_4sev_4asymp_DESEQ_result_22_Jan.txt\", sep='\\t',  quote = F,row.names = TRUE)"
      ],
      "metadata": {
        "id": "l9rDSoKVUpPS"
      },
      "execution_count": null,
      "outputs": []
    },
    {
      "cell_type": "code",
      "source": [
        "#code to create volcano plot\n",
        "\n",
        "#reset par\n",
        "par(mfrow=c(1,1))\n",
        "# Make a basic volcano plot\n",
        "with(res, plot(log2FoldChange, -log10(pvalue), pch=20, main=\"Volcano plot\", xlim=c(-3,3)))\n",
        "\n",
        "# Add colored points: blue if padj<0.01, red if log2FC>1 and padj<0.05)\n",
        "with(subset(res, padj<.01 ), points(log2FoldChange, -log10(pvalue), pch=20, col=\"blue\"))\n",
        "with(subset(res, padj<.01 & abs(log2FoldChange)>2), points(log2FoldChange, -log10(pvalue), pch=20, col=\"red\"))"
      ],
      "metadata": {
        "colab": {
          "base_uri": "https://localhost:8080/",
          "height": 437
        },
        "id": "LTvNN1_uUr_7",
        "outputId": "2aecbe01-01f5-48c0-f955-85f0adefee8b"
      },
      "execution_count": null,
      "outputs": [
        {
          "output_type": "display_data",
          "data": {
            "image/png": "[encoded data removed]",
            "text/plain": [
              "Plot with title “Volcano plot”"
            ]
          },
          "metadata": {
            "image/png": {
              "width": 420,
              "height": 420
            }
          }
        }
      ]
    },
    {
      "cell_type": "code",
      "source": [
        "#filter and remove col having values NA for padj\n",
        "result1<- subset(result, padj != \"NA\")"
      ],
      "metadata": {
        "id": "osll0Fut5GRd"
      },
      "execution_count": null,
      "outputs": []
    },
    {
      "cell_type": "code",
      "source": [
        "head(result1)"
      ],
      "metadata": {
        "colab": {
          "base_uri": "https://localhost:8080/",
          "height": 286
        },
        "id": "1EFUrTxE5O2D",
        "outputId": "b480886f-c015-40c6-f544-5abca0dac202"
      },
      "execution_count": null,
      "outputs": [
        {
          "output_type": "display_data",
          "data": {
            "text/plain": [
              "           baseMean   log2FoldChange lfcSE     stat      pvalue      \n",
              "S100P      108.704230 -3.085421      0.4563657 -6.760854 1.371811e-11\n",
              "RIMBP3B     46.738914 -8.258848      1.5713419 -5.255921 1.472858e-07\n",
              "AL132780.3   7.395857  7.083970      1.4102260  5.023287 5.079452e-07\n",
              "VNN1       560.720180 -2.727828      0.5485598 -4.972708 6.602414e-07\n",
              "BAG1       160.191295  2.814394      0.5872701  4.792333 1.648531e-06\n",
              "PRDX5      231.373429  1.755270      0.3699205  4.744993 2.085135e-06\n",
              "           padj        \n",
              "S100P      3.558340e-07\n",
              "RIMBP3B    1.910223e-03\n",
              "AL132780.3 4.281500e-03\n",
              "VNN1       4.281500e-03\n",
              "BAG1       8.552250e-03\n",
              "PRDX5      9.014385e-03"
            ],
            "text/latex": "A data.frame: 6 × 6\n\\begin{tabular}{r|llllll}\n  & baseMean & log2FoldChange & lfcSE & stat & pvalue & padj\\\\\n  & <dbl> & <dbl> & <dbl> & <dbl> & <dbl> & <dbl>\\\\\n\\hline\n\tS100P & 108.704230 & -3.085421 & 0.4563657 & -6.760854 & 1.371811e-11 & 3.558340e-07\\\\\n\tRIMBP3B &  46.738914 & -8.258848 & 1.5713419 & -5.255921 & 1.472858e-07 & 1.910223e-03\\\\\n\tAL132780.3 &   7.395857 &  7.083970 & 1.4102260 &  5.023287 & 5.079452e-07 & 4.281500e-03\\\\\n\tVNN1 & 560.720180 & -2.727828 & 0.5485598 & -4.972708 & 6.602414e-07 & 4.281500e-03\\\\\n\tBAG1 & 160.191295 &  2.814394 & 0.5872701 &  4.792333 & 1.648531e-06 & 8.552250e-03\\\\\n\tPRDX5 & 231.373429 &  1.755270 & 0.3699205 &  4.744993 & 2.085135e-06 & 9.014385e-03\\\\\n\\end{tabular}\n",
            "text/markdown": "\nA data.frame: 6 × 6\n\n| <!--/--> | baseMean &lt;dbl&gt; | log2FoldChange &lt;dbl&gt; | lfcSE &lt;dbl&gt; | stat &lt;dbl&gt; | pvalue &lt;dbl&gt; | padj &lt;dbl&gt; |\n|---|---|---|---|---|---|---|\n| S100P | 108.704230 | -3.085421 | 0.4563657 | -6.760854 | 1.371811e-11 | 3.558340e-07 |\n| RIMBP3B |  46.738914 | -8.258848 | 1.5713419 | -5.255921 | 1.472858e-07 | 1.910223e-03 |\n| AL132780.3 |   7.395857 |  7.083970 | 1.4102260 |  5.023287 | 5.079452e-07 | 4.281500e-03 |\n| VNN1 | 560.720180 | -2.727828 | 0.5485598 | -4.972708 | 6.602414e-07 | 4.281500e-03 |\n| BAG1 | 160.191295 |  2.814394 | 0.5872701 |  4.792333 | 1.648531e-06 | 8.552250e-03 |\n| PRDX5 | 231.373429 |  1.755270 | 0.3699205 |  4.744993 | 2.085135e-06 | 9.014385e-03 |\n\n",
            "text/html": [
              "<table class=\"dataframe\">\n",
              "<caption>A data.frame: 6 × 6</caption>\n",
              "<thead>\n",
              "\t<tr><th></th><th scope=col>baseMean</th><th scope=col>log2FoldChange</th><th scope=col>lfcSE</th><th scope=col>stat</th><th scope=col>pvalue</th><th scope=col>padj</th></tr>\n",
              "\t<tr><th></th><th scope=col>&lt;dbl&gt;</th><th scope=col>&lt;dbl&gt;</th><th scope=col>&lt;dbl&gt;</th><th scope=col>&lt;dbl&gt;</th><th scope=col>&lt;dbl&gt;</th><th scope=col>&lt;dbl&gt;</th></tr>\n",
              "</thead>\n",
              "<tbody>\n",
              "\t<tr><th scope=row>S100P</th><td>108.704230</td><td>-3.085421</td><td>0.4563657</td><td>-6.760854</td><td>1.371811e-11</td><td>3.558340e-07</td></tr>\n",
              "\t<tr><th scope=row>RIMBP3B</th><td> 46.738914</td><td>-8.258848</td><td>1.5713419</td><td>-5.255921</td><td>1.472858e-07</td><td>1.910223e-03</td></tr>\n",
              "\t<tr><th scope=row>AL132780.3</th><td>  7.395857</td><td> 7.083970</td><td>1.4102260</td><td> 5.023287</td><td>5.079452e-07</td><td>4.281500e-03</td></tr>\n",
              "\t<tr><th scope=row>VNN1</th><td>560.720180</td><td>-2.727828</td><td>0.5485598</td><td>-4.972708</td><td>6.602414e-07</td><td>4.281500e-03</td></tr>\n",
              "\t<tr><th scope=row>BAG1</th><td>160.191295</td><td> 2.814394</td><td>0.5872701</td><td> 4.792333</td><td>1.648531e-06</td><td>8.552250e-03</td></tr>\n",
              "\t<tr><th scope=row>PRDX5</th><td>231.373429</td><td> 1.755270</td><td>0.3699205</td><td> 4.744993</td><td>2.085135e-06</td><td>9.014385e-03</td></tr>\n",
              "</tbody>\n",
              "</table>\n"
            ]
          },
          "metadata": {}
        }
      ]
    },
    {
      "cell_type": "code",
      "source": [
        "tail(result1)"
      ],
      "metadata": {
        "colab": {
          "base_uri": "https://localhost:8080/",
          "height": 286
        },
        "id": "wZ93wfFd5KUB",
        "outputId": "bef974e8-97cd-44f7-bb2b-22c91ef4ee1f"
      },
      "execution_count": null,
      "outputs": [
        {
          "output_type": "display_data",
          "data": {
            "text/plain": [
              "          baseMean     log2FoldChange lfcSE     stat          pvalue   \n",
              "MKRN2       57.2986036  3.928616e-05  0.3948475  9.949707e-05 0.9999206\n",
              "PLEKHA3P1    0.8930598 -2.613111e-04  2.4614135 -1.061630e-04 0.9999153\n",
              "PRKCZ        2.4823178  8.667472e-04  1.3891104  6.239585e-04 0.9995022\n",
              "SMCHD1    1255.3372851  3.253464e-05  0.4491307  7.243914e-05 0.9999422\n",
              "STN1        59.8517373 -3.438424e-05  0.4361361 -7.883832e-05 0.9999371\n",
              "TCTN3        8.2994220  3.151188e-04  0.8429700  3.738197e-04 0.9997017\n",
              "          padj     \n",
              "MKRN2     0.9999966\n",
              "PLEKHA3P1 0.9999966\n",
              "PRKCZ     0.9999966\n",
              "SMCHD1    0.9999966\n",
              "STN1      0.9999966\n",
              "TCTN3     0.9999966"
            ],
            "text/latex": "A data.frame: 6 × 6\n\\begin{tabular}{r|llllll}\n  & baseMean & log2FoldChange & lfcSE & stat & pvalue & padj\\\\\n  & <dbl> & <dbl> & <dbl> & <dbl> & <dbl> & <dbl>\\\\\n\\hline\n\tMKRN2 &   57.2986036 &  3.928616e-05 & 0.3948475 &  9.949707e-05 & 0.9999206 & 0.9999966\\\\\n\tPLEKHA3P1 &    0.8930598 & -2.613111e-04 & 2.4614135 & -1.061630e-04 & 0.9999153 & 0.9999966\\\\\n\tPRKCZ &    2.4823178 &  8.667472e-04 & 1.3891104 &  6.239585e-04 & 0.9995022 & 0.9999966\\\\\n\tSMCHD1 & 1255.3372851 &  3.253464e-05 & 0.4491307 &  7.243914e-05 & 0.9999422 & 0.9999966\\\\\n\tSTN1 &   59.8517373 & -3.438424e-05 & 0.4361361 & -7.883832e-05 & 0.9999371 & 0.9999966\\\\\n\tTCTN3 &    8.2994220 &  3.151188e-04 & 0.8429700 &  3.738197e-04 & 0.9997017 & 0.9999966\\\\\n\\end{tabular}\n",
            "text/markdown": "\nA data.frame: 6 × 6\n\n| <!--/--> | baseMean &lt;dbl&gt; | log2FoldChange &lt;dbl&gt; | lfcSE &lt;dbl&gt; | stat &lt;dbl&gt; | pvalue &lt;dbl&gt; | padj &lt;dbl&gt; |\n|---|---|---|---|---|---|---|\n| MKRN2 |   57.2986036 |  3.928616e-05 | 0.3948475 |  9.949707e-05 | 0.9999206 | 0.9999966 |\n| PLEKHA3P1 |    0.8930598 | -2.613111e-04 | 2.4614135 | -1.061630e-04 | 0.9999153 | 0.9999966 |\n| PRKCZ |    2.4823178 |  8.667472e-04 | 1.3891104 |  6.239585e-04 | 0.9995022 | 0.9999966 |\n| SMCHD1 | 1255.3372851 |  3.253464e-05 | 0.4491307 |  7.243914e-05 | 0.9999422 | 0.9999966 |\n| STN1 |   59.8517373 | -3.438424e-05 | 0.4361361 | -7.883832e-05 | 0.9999371 | 0.9999966 |\n| TCTN3 |    8.2994220 |  3.151188e-04 | 0.8429700 |  3.738197e-04 | 0.9997017 | 0.9999966 |\n\n",
            "text/html": [
              "<table class=\"dataframe\">\n",
              "<caption>A data.frame: 6 × 6</caption>\n",
              "<thead>\n",
              "\t<tr><th></th><th scope=col>baseMean</th><th scope=col>log2FoldChange</th><th scope=col>lfcSE</th><th scope=col>stat</th><th scope=col>pvalue</th><th scope=col>padj</th></tr>\n",
              "\t<tr><th></th><th scope=col>&lt;dbl&gt;</th><th scope=col>&lt;dbl&gt;</th><th scope=col>&lt;dbl&gt;</th><th scope=col>&lt;dbl&gt;</th><th scope=col>&lt;dbl&gt;</th><th scope=col>&lt;dbl&gt;</th></tr>\n",
              "</thead>\n",
              "<tbody>\n",
              "\t<tr><th scope=row>MKRN2</th><td>  57.2986036</td><td> 3.928616e-05</td><td>0.3948475</td><td> 9.949707e-05</td><td>0.9999206</td><td>0.9999966</td></tr>\n",
              "\t<tr><th scope=row>PLEKHA3P1</th><td>   0.8930598</td><td>-2.613111e-04</td><td>2.4614135</td><td>-1.061630e-04</td><td>0.9999153</td><td>0.9999966</td></tr>\n",
              "\t<tr><th scope=row>PRKCZ</th><td>   2.4823178</td><td> 8.667472e-04</td><td>1.3891104</td><td> 6.239585e-04</td><td>0.9995022</td><td>0.9999966</td></tr>\n",
              "\t<tr><th scope=row>SMCHD1</th><td>1255.3372851</td><td> 3.253464e-05</td><td>0.4491307</td><td> 7.243914e-05</td><td>0.9999422</td><td>0.9999966</td></tr>\n",
              "\t<tr><th scope=row>STN1</th><td>  59.8517373</td><td>-3.438424e-05</td><td>0.4361361</td><td>-7.883832e-05</td><td>0.9999371</td><td>0.9999966</td></tr>\n",
              "\t<tr><th scope=row>TCTN3</th><td>   8.2994220</td><td> 3.151188e-04</td><td>0.8429700</td><td> 3.738197e-04</td><td>0.9997017</td><td>0.9999966</td></tr>\n",
              "</tbody>\n",
              "</table>\n"
            ]
          },
          "metadata": {}
        }
      ]
    },
    {
      "cell_type": "code",
      "source": [
        "# Sort features based on FDRy value\n",
        "sorted_features <- as.data.frame(result1[order(result1[,\"padj\"], decreasing =  FALSE),])"
      ],
      "metadata": {
        "id": "JjFkoVnY4Tg_"
      },
      "execution_count": null,
      "outputs": []
    },
    {
      "cell_type": "code",
      "source": [
        "head(sorted_features)"
      ],
      "metadata": {
        "colab": {
          "base_uri": "https://localhost:8080/",
          "height": 286
        },
        "id": "YbuxzlST4hpv",
        "outputId": "d3539678-608b-4fb1-a953-105f82d449b7"
      },
      "execution_count": null,
      "outputs": [
        {
          "output_type": "display_data",
          "data": {
            "text/plain": [
              "           baseMean   log2FoldChange lfcSE     stat      pvalue      \n",
              "S100P      108.704230 -3.085421      0.4563657 -6.760854 1.371811e-11\n",
              "RIMBP3B     46.738914 -8.258848      1.5713419 -5.255921 1.472858e-07\n",
              "AL132780.3   7.395857  7.083970      1.4102260  5.023287 5.079452e-07\n",
              "VNN1       560.720180 -2.727828      0.5485598 -4.972708 6.602414e-07\n",
              "BAG1       160.191295  2.814394      0.5872701  4.792333 1.648531e-06\n",
              "PRDX5      231.373429  1.755270      0.3699205  4.744993 2.085135e-06\n",
              "           padj        \n",
              "S100P      3.558340e-07\n",
              "RIMBP3B    1.910223e-03\n",
              "AL132780.3 4.281500e-03\n",
              "VNN1       4.281500e-03\n",
              "BAG1       8.552250e-03\n",
              "PRDX5      9.014385e-03"
            ],
            "text/latex": "A data.frame: 6 × 6\n\\begin{tabular}{r|llllll}\n  & baseMean & log2FoldChange & lfcSE & stat & pvalue & padj\\\\\n  & <dbl> & <dbl> & <dbl> & <dbl> & <dbl> & <dbl>\\\\\n\\hline\n\tS100P & 108.704230 & -3.085421 & 0.4563657 & -6.760854 & 1.371811e-11 & 3.558340e-07\\\\\n\tRIMBP3B &  46.738914 & -8.258848 & 1.5713419 & -5.255921 & 1.472858e-07 & 1.910223e-03\\\\\n\tAL132780.3 &   7.395857 &  7.083970 & 1.4102260 &  5.023287 & 5.079452e-07 & 4.281500e-03\\\\\n\tVNN1 & 560.720180 & -2.727828 & 0.5485598 & -4.972708 & 6.602414e-07 & 4.281500e-03\\\\\n\tBAG1 & 160.191295 &  2.814394 & 0.5872701 &  4.792333 & 1.648531e-06 & 8.552250e-03\\\\\n\tPRDX5 & 231.373429 &  1.755270 & 0.3699205 &  4.744993 & 2.085135e-06 & 9.014385e-03\\\\\n\\end{tabular}\n",
            "text/markdown": "\nA data.frame: 6 × 6\n\n| <!--/--> | baseMean &lt;dbl&gt; | log2FoldChange &lt;dbl&gt; | lfcSE &lt;dbl&gt; | stat &lt;dbl&gt; | pvalue &lt;dbl&gt; | padj &lt;dbl&gt; |\n|---|---|---|---|---|---|---|\n| S100P | 108.704230 | -3.085421 | 0.4563657 | -6.760854 | 1.371811e-11 | 3.558340e-07 |\n| RIMBP3B |  46.738914 | -8.258848 | 1.5713419 | -5.255921 | 1.472858e-07 | 1.910223e-03 |\n| AL132780.3 |   7.395857 |  7.083970 | 1.4102260 |  5.023287 | 5.079452e-07 | 4.281500e-03 |\n| VNN1 | 560.720180 | -2.727828 | 0.5485598 | -4.972708 | 6.602414e-07 | 4.281500e-03 |\n| BAG1 | 160.191295 |  2.814394 | 0.5872701 |  4.792333 | 1.648531e-06 | 8.552250e-03 |\n| PRDX5 | 231.373429 |  1.755270 | 0.3699205 |  4.744993 | 2.085135e-06 | 9.014385e-03 |\n\n",
            "text/html": [
              "<table class=\"dataframe\">\n",
              "<caption>A data.frame: 6 × 6</caption>\n",
              "<thead>\n",
              "\t<tr><th></th><th scope=col>baseMean</th><th scope=col>log2FoldChange</th><th scope=col>lfcSE</th><th scope=col>stat</th><th scope=col>pvalue</th><th scope=col>padj</th></tr>\n",
              "\t<tr><th></th><th scope=col>&lt;dbl&gt;</th><th scope=col>&lt;dbl&gt;</th><th scope=col>&lt;dbl&gt;</th><th scope=col>&lt;dbl&gt;</th><th scope=col>&lt;dbl&gt;</th><th scope=col>&lt;dbl&gt;</th></tr>\n",
              "</thead>\n",
              "<tbody>\n",
              "\t<tr><th scope=row>S100P</th><td>108.704230</td><td>-3.085421</td><td>0.4563657</td><td>-6.760854</td><td>1.371811e-11</td><td>3.558340e-07</td></tr>\n",
              "\t<tr><th scope=row>RIMBP3B</th><td> 46.738914</td><td>-8.258848</td><td>1.5713419</td><td>-5.255921</td><td>1.472858e-07</td><td>1.910223e-03</td></tr>\n",
              "\t<tr><th scope=row>AL132780.3</th><td>  7.395857</td><td> 7.083970</td><td>1.4102260</td><td> 5.023287</td><td>5.079452e-07</td><td>4.281500e-03</td></tr>\n",
              "\t<tr><th scope=row>VNN1</th><td>560.720180</td><td>-2.727828</td><td>0.5485598</td><td>-4.972708</td><td>6.602414e-07</td><td>4.281500e-03</td></tr>\n",
              "\t<tr><th scope=row>BAG1</th><td>160.191295</td><td> 2.814394</td><td>0.5872701</td><td> 4.792333</td><td>1.648531e-06</td><td>8.552250e-03</td></tr>\n",
              "\t<tr><th scope=row>PRDX5</th><td>231.373429</td><td> 1.755270</td><td>0.3699205</td><td> 4.744993</td><td>2.085135e-06</td><td>9.014385e-03</td></tr>\n",
              "</tbody>\n",
              "</table>\n"
            ]
          },
          "metadata": {}
        }
      ]
    },
    {
      "cell_type": "code",
      "source": [
        "tail(sorted_features)"
      ],
      "metadata": {
        "colab": {
          "base_uri": "https://localhost:8080/",
          "height": 286
        },
        "id": "f9v6NqjI4kuG",
        "outputId": "6a0a3a46-8c38-4880-e3ae-26430e447285"
      },
      "execution_count": null,
      "outputs": [
        {
          "output_type": "display_data",
          "data": {
            "text/plain": [
              "          baseMean     log2FoldChange lfcSE     stat          pvalue   \n",
              "MKRN2       57.2986036  3.928616e-05  0.3948475  9.949707e-05 0.9999206\n",
              "PLEKHA3P1    0.8930598 -2.613111e-04  2.4614135 -1.061630e-04 0.9999153\n",
              "PRKCZ        2.4823178  8.667472e-04  1.3891104  6.239585e-04 0.9995022\n",
              "SMCHD1    1255.3372851  3.253464e-05  0.4491307  7.243914e-05 0.9999422\n",
              "STN1        59.8517373 -3.438424e-05  0.4361361 -7.883832e-05 0.9999371\n",
              "TCTN3        8.2994220  3.151188e-04  0.8429700  3.738197e-04 0.9997017\n",
              "          padj     \n",
              "MKRN2     0.9999966\n",
              "PLEKHA3P1 0.9999966\n",
              "PRKCZ     0.9999966\n",
              "SMCHD1    0.9999966\n",
              "STN1      0.9999966\n",
              "TCTN3     0.9999966"
            ],
            "text/latex": "A data.frame: 6 × 6\n\\begin{tabular}{r|llllll}\n  & baseMean & log2FoldChange & lfcSE & stat & pvalue & padj\\\\\n  & <dbl> & <dbl> & <dbl> & <dbl> & <dbl> & <dbl>\\\\\n\\hline\n\tMKRN2 &   57.2986036 &  3.928616e-05 & 0.3948475 &  9.949707e-05 & 0.9999206 & 0.9999966\\\\\n\tPLEKHA3P1 &    0.8930598 & -2.613111e-04 & 2.4614135 & -1.061630e-04 & 0.9999153 & 0.9999966\\\\\n\tPRKCZ &    2.4823178 &  8.667472e-04 & 1.3891104 &  6.239585e-04 & 0.9995022 & 0.9999966\\\\\n\tSMCHD1 & 1255.3372851 &  3.253464e-05 & 0.4491307 &  7.243914e-05 & 0.9999422 & 0.9999966\\\\\n\tSTN1 &   59.8517373 & -3.438424e-05 & 0.4361361 & -7.883832e-05 & 0.9999371 & 0.9999966\\\\\n\tTCTN3 &    8.2994220 &  3.151188e-04 & 0.8429700 &  3.738197e-04 & 0.9997017 & 0.9999966\\\\\n\\end{tabular}\n",
            "text/markdown": "\nA data.frame: 6 × 6\n\n| <!--/--> | baseMean &lt;dbl&gt; | log2FoldChange &lt;dbl&gt; | lfcSE &lt;dbl&gt; | stat &lt;dbl&gt; | pvalue &lt;dbl&gt; | padj &lt;dbl&gt; |\n|---|---|---|---|---|---|---|\n| MKRN2 |   57.2986036 |  3.928616e-05 | 0.3948475 |  9.949707e-05 | 0.9999206 | 0.9999966 |\n| PLEKHA3P1 |    0.8930598 | -2.613111e-04 | 2.4614135 | -1.061630e-04 | 0.9999153 | 0.9999966 |\n| PRKCZ |    2.4823178 |  8.667472e-04 | 1.3891104 |  6.239585e-04 | 0.9995022 | 0.9999966 |\n| SMCHD1 | 1255.3372851 |  3.253464e-05 | 0.4491307 |  7.243914e-05 | 0.9999422 | 0.9999966 |\n| STN1 |   59.8517373 | -3.438424e-05 | 0.4361361 | -7.883832e-05 | 0.9999371 | 0.9999966 |\n| TCTN3 |    8.2994220 |  3.151188e-04 | 0.8429700 |  3.738197e-04 | 0.9997017 | 0.9999966 |\n\n",
            "text/html": [
              "<table class=\"dataframe\">\n",
              "<caption>A data.frame: 6 × 6</caption>\n",
              "<thead>\n",
              "\t<tr><th></th><th scope=col>baseMean</th><th scope=col>log2FoldChange</th><th scope=col>lfcSE</th><th scope=col>stat</th><th scope=col>pvalue</th><th scope=col>padj</th></tr>\n",
              "\t<tr><th></th><th scope=col>&lt;dbl&gt;</th><th scope=col>&lt;dbl&gt;</th><th scope=col>&lt;dbl&gt;</th><th scope=col>&lt;dbl&gt;</th><th scope=col>&lt;dbl&gt;</th><th scope=col>&lt;dbl&gt;</th></tr>\n",
              "</thead>\n",
              "<tbody>\n",
              "\t<tr><th scope=row>MKRN2</th><td>  57.2986036</td><td> 3.928616e-05</td><td>0.3948475</td><td> 9.949707e-05</td><td>0.9999206</td><td>0.9999966</td></tr>\n",
              "\t<tr><th scope=row>PLEKHA3P1</th><td>   0.8930598</td><td>-2.613111e-04</td><td>2.4614135</td><td>-1.061630e-04</td><td>0.9999153</td><td>0.9999966</td></tr>\n",
              "\t<tr><th scope=row>PRKCZ</th><td>   2.4823178</td><td> 8.667472e-04</td><td>1.3891104</td><td> 6.239585e-04</td><td>0.9995022</td><td>0.9999966</td></tr>\n",
              "\t<tr><th scope=row>SMCHD1</th><td>1255.3372851</td><td> 3.253464e-05</td><td>0.4491307</td><td> 7.243914e-05</td><td>0.9999422</td><td>0.9999966</td></tr>\n",
              "\t<tr><th scope=row>STN1</th><td>  59.8517373</td><td>-3.438424e-05</td><td>0.4361361</td><td>-7.883832e-05</td><td>0.9999371</td><td>0.9999966</td></tr>\n",
              "\t<tr><th scope=row>TCTN3</th><td>   8.2994220</td><td> 3.151188e-04</td><td>0.8429700</td><td> 3.738197e-04</td><td>0.9997017</td><td>0.9999966</td></tr>\n",
              "</tbody>\n",
              "</table>\n"
            ]
          },
          "metadata": {}
        }
      ]
    },
    {
      "cell_type": "code",
      "source": [
        "#select significant features based on FDR <0.05\n",
        "sig_features <- sorted_features[sorted_features$padj < 0.05, ]"
      ],
      "metadata": {
        "id": "QmDP2ZCX4nAo"
      },
      "execution_count": null,
      "outputs": []
    },
    {
      "cell_type": "code",
      "source": [
        "dim(sig_features)"
      ],
      "metadata": {
        "colab": {
          "base_uri": "https://localhost:8080/",
          "height": 34
        },
        "id": "AIz0Fjp94tcC",
        "outputId": "2c2eeba0-927d-48fc-d4b9-4f96d5c2304d"
      },
      "execution_count": null,
      "outputs": [
        {
          "output_type": "display_data",
          "data": {
            "text/plain": [
              "[1] 11  6"
            ],
            "text/latex": "\\begin{enumerate*}\n\\item 11\n\\item 6\n\\end{enumerate*}\n",
            "text/markdown": "1. 11\n2. 6\n\n\n",
            "text/html": [
              "<style>\n",
              ".list-inline {list-style: none; margin:0; padding: 0}\n",
              ".list-inline>li {display: inline-block}\n",
              ".list-inline>li:not(:last-child)::after {content: \"\\00b7\"; padding: 0 .5ex}\n",
              "</style>\n",
              "<ol class=list-inline><li>11</li><li>6</li></ol>\n"
            ]
          },
          "metadata": {}
        }
      ]
    },
    {
      "cell_type": "code",
      "source": [
        "#select top features based on FDR <0.05 & FC > +/- 1.2\n",
        "# upregulated genes\n",
        "upreg_features <- sig_features[sig_features$log2FoldChange > 1.2, ]"
      ],
      "metadata": {
        "id": "9ANMs20H4xlW"
      },
      "execution_count": null,
      "outputs": []
    },
    {
      "cell_type": "code",
      "source": [
        "dim(upreg_features)"
      ],
      "metadata": {
        "colab": {
          "base_uri": "https://localhost:8080/",
          "height": 34
        },
        "id": "uDBP1SHl4zu6",
        "outputId": "a82ae67a-30ed-44ff-dd38-aa50344aef07"
      },
      "execution_count": null,
      "outputs": [
        {
          "output_type": "display_data",
          "data": {
            "text/plain": [
              "[1] 7 6"
            ],
            "text/latex": "\\begin{enumerate*}\n\\item 7\n\\item 6\n\\end{enumerate*}\n",
            "text/markdown": "1. 7\n2. 6\n\n\n",
            "text/html": [
              "<style>\n",
              ".list-inline {list-style: none; margin:0; padding: 0}\n",
              ".list-inline>li {display: inline-block}\n",
              ".list-inline>li:not(:last-child)::after {content: \"\\00b7\"; padding: 0 .5ex}\n",
              "</style>\n",
              "<ol class=list-inline><li>7</li><li>6</li></ol>\n"
            ]
          },
          "metadata": {}
        }
      ]
    },
    {
      "cell_type": "code",
      "source": [
        "upreg_features"
      ],
      "metadata": {
        "colab": {
          "base_uri": "https://localhost:8080/",
          "height": 318
        },
        "id": "_m-zHlez7qE_",
        "outputId": "a1325cce-c746-42e7-eb0a-6cdcb2eaf409"
      },
      "execution_count": null,
      "outputs": [
        {
          "output_type": "display_data",
          "data": {
            "text/plain": [
              "               baseMean    log2FoldChange lfcSE     stat     pvalue      \n",
              "AL132780.3        7.395857 7.083970       1.4102260 5.023287 5.079452e-07\n",
              "BAG1            160.191295 2.814394       0.5872701 4.792333 1.648531e-06\n",
              "PRDX5           231.373429 1.755270       0.3699205 4.744993 2.085135e-06\n",
              "TMEM189-UBE2V1    6.791855 7.009448       1.4993703 4.674928 2.940564e-06\n",
              "UBB            1219.007426 2.947678       0.6273508 4.698612 2.619359e-06\n",
              "CFD             116.657847 2.337646       0.5297992 4.412324 1.022671e-05\n",
              "BLVRB           123.093497 2.841635       0.6490955 4.377838 1.198624e-05\n",
              "               padj       \n",
              "AL132780.3     0.004281500\n",
              "BAG1           0.008552250\n",
              "PRDX5          0.009014385\n",
              "TMEM189-UBE2V1 0.009534412\n",
              "UBB            0.009534412\n",
              "CFD            0.026527067\n",
              "BLVRB          0.028264644"
            ],
            "text/latex": "A data.frame: 7 × 6\n\\begin{tabular}{r|llllll}\n  & baseMean & log2FoldChange & lfcSE & stat & pvalue & padj\\\\\n  & <dbl> & <dbl> & <dbl> & <dbl> & <dbl> & <dbl>\\\\\n\\hline\n\tAL132780.3 &    7.395857 & 7.083970 & 1.4102260 & 5.023287 & 5.079452e-07 & 0.004281500\\\\\n\tBAG1 &  160.191295 & 2.814394 & 0.5872701 & 4.792333 & 1.648531e-06 & 0.008552250\\\\\n\tPRDX5 &  231.373429 & 1.755270 & 0.3699205 & 4.744993 & 2.085135e-06 & 0.009014385\\\\\n\tTMEM189-UBE2V1 &    6.791855 & 7.009448 & 1.4993703 & 4.674928 & 2.940564e-06 & 0.009534412\\\\\n\tUBB & 1219.007426 & 2.947678 & 0.6273508 & 4.698612 & 2.619359e-06 & 0.009534412\\\\\n\tCFD &  116.657847 & 2.337646 & 0.5297992 & 4.412324 & 1.022671e-05 & 0.026527067\\\\\n\tBLVRB &  123.093497 & 2.841635 & 0.6490955 & 4.377838 & 1.198624e-05 & 0.028264644\\\\\n\\end{tabular}\n",
            "text/markdown": "\nA data.frame: 7 × 6\n\n| <!--/--> | baseMean &lt;dbl&gt; | log2FoldChange &lt;dbl&gt; | lfcSE &lt;dbl&gt; | stat &lt;dbl&gt; | pvalue &lt;dbl&gt; | padj &lt;dbl&gt; |\n|---|---|---|---|---|---|---|\n| AL132780.3 |    7.395857 | 7.083970 | 1.4102260 | 5.023287 | 5.079452e-07 | 0.004281500 |\n| BAG1 |  160.191295 | 2.814394 | 0.5872701 | 4.792333 | 1.648531e-06 | 0.008552250 |\n| PRDX5 |  231.373429 | 1.755270 | 0.3699205 | 4.744993 | 2.085135e-06 | 0.009014385 |\n| TMEM189-UBE2V1 |    6.791855 | 7.009448 | 1.4993703 | 4.674928 | 2.940564e-06 | 0.009534412 |\n| UBB | 1219.007426 | 2.947678 | 0.6273508 | 4.698612 | 2.619359e-06 | 0.009534412 |\n| CFD |  116.657847 | 2.337646 | 0.5297992 | 4.412324 | 1.022671e-05 | 0.026527067 |\n| BLVRB |  123.093497 | 2.841635 | 0.6490955 | 4.377838 | 1.198624e-05 | 0.028264644 |\n\n",
            "text/html": [
              "<table class=\"dataframe\">\n",
              "<caption>A data.frame: 7 × 6</caption>\n",
              "<thead>\n",
              "\t<tr><th></th><th scope=col>baseMean</th><th scope=col>log2FoldChange</th><th scope=col>lfcSE</th><th scope=col>stat</th><th scope=col>pvalue</th><th scope=col>padj</th></tr>\n",
              "\t<tr><th></th><th scope=col>&lt;dbl&gt;</th><th scope=col>&lt;dbl&gt;</th><th scope=col>&lt;dbl&gt;</th><th scope=col>&lt;dbl&gt;</th><th scope=col>&lt;dbl&gt;</th><th scope=col>&lt;dbl&gt;</th></tr>\n",
              "</thead>\n",
              "<tbody>\n",
              "\t<tr><th scope=row>AL132780.3</th><td>   7.395857</td><td>7.083970</td><td>1.4102260</td><td>5.023287</td><td>5.079452e-07</td><td>0.004281500</td></tr>\n",
              "\t<tr><th scope=row>BAG1</th><td> 160.191295</td><td>2.814394</td><td>0.5872701</td><td>4.792333</td><td>1.648531e-06</td><td>0.008552250</td></tr>\n",
              "\t<tr><th scope=row>PRDX5</th><td> 231.373429</td><td>1.755270</td><td>0.3699205</td><td>4.744993</td><td>2.085135e-06</td><td>0.009014385</td></tr>\n",
              "\t<tr><th scope=row>TMEM189-UBE2V1</th><td>   6.791855</td><td>7.009448</td><td>1.4993703</td><td>4.674928</td><td>2.940564e-06</td><td>0.009534412</td></tr>\n",
              "\t<tr><th scope=row>UBB</th><td>1219.007426</td><td>2.947678</td><td>0.6273508</td><td>4.698612</td><td>2.619359e-06</td><td>0.009534412</td></tr>\n",
              "\t<tr><th scope=row>CFD</th><td> 116.657847</td><td>2.337646</td><td>0.5297992</td><td>4.412324</td><td>1.022671e-05</td><td>0.026527067</td></tr>\n",
              "\t<tr><th scope=row>BLVRB</th><td> 123.093497</td><td>2.841635</td><td>0.6490955</td><td>4.377838</td><td>1.198624e-05</td><td>0.028264644</td></tr>\n",
              "</tbody>\n",
              "</table>\n"
            ]
          },
          "metadata": {}
        }
      ]
    },
    {
      "cell_type": "code",
      "source": [
        "#upregulated genes\n",
        "downreg_features <- sig_features[sig_features$log2FoldChange < -1.2, ]"
      ],
      "metadata": {
        "id": "g1CMiGYs45Eq"
      },
      "execution_count": null,
      "outputs": []
    },
    {
      "cell_type": "code",
      "source": [
        "dim(downreg_features)"
      ],
      "metadata": {
        "colab": {
          "base_uri": "https://localhost:8080/",
          "height": 34
        },
        "id": "yCZLII8m47mP",
        "outputId": "9dadd8bb-a0f4-41e9-ac49-15012932a81f"
      },
      "execution_count": null,
      "outputs": [
        {
          "output_type": "display_data",
          "data": {
            "text/plain": [
              "[1] 4 6"
            ],
            "text/latex": "\\begin{enumerate*}\n\\item 4\n\\item 6\n\\end{enumerate*}\n",
            "text/markdown": "1. 4\n2. 6\n\n\n",
            "text/html": [
              "<style>\n",
              ".list-inline {list-style: none; margin:0; padding: 0}\n",
              ".list-inline>li {display: inline-block}\n",
              ".list-inline>li:not(:last-child)::after {content: \"\\00b7\"; padding: 0 .5ex}\n",
              "</style>\n",
              "<ol class=list-inline><li>4</li><li>6</li></ol>\n"
            ]
          },
          "metadata": {}
        }
      ]
    },
    {
      "cell_type": "code",
      "source": [
        "downreg_features"
      ],
      "metadata": {
        "colab": {
          "base_uri": "https://localhost:8080/",
          "height": 224
        },
        "id": "NLBuJXTc9m9X",
        "outputId": "5c5d7e6a-1c24-4c58-a8bd-c2b095399e98"
      },
      "execution_count": null,
      "outputs": [
        {
          "output_type": "display_data",
          "data": {
            "text/plain": [
              "        baseMean   log2FoldChange lfcSE     stat      pvalue       padj        \n",
              "S100P    108.70423 -3.085421      0.4563657 -6.760854 1.371811e-11 3.558340e-07\n",
              "RIMBP3B   46.73891 -8.258848      1.5713419 -5.255921 1.472858e-07 1.910223e-03\n",
              "VNN1     560.72018 -2.727828      0.5485598 -4.972708 6.602414e-07 4.281500e-03\n",
              "B4GALT5 1381.67699 -1.471832      0.3334301 -4.414216 1.013768e-05 2.652707e-02"
            ],
            "text/latex": "A data.frame: 4 × 6\n\\begin{tabular}{r|llllll}\n  & baseMean & log2FoldChange & lfcSE & stat & pvalue & padj\\\\\n  & <dbl> & <dbl> & <dbl> & <dbl> & <dbl> & <dbl>\\\\\n\\hline\n\tS100P &  108.70423 & -3.085421 & 0.4563657 & -6.760854 & 1.371811e-11 & 3.558340e-07\\\\\n\tRIMBP3B &   46.73891 & -8.258848 & 1.5713419 & -5.255921 & 1.472858e-07 & 1.910223e-03\\\\\n\tVNN1 &  560.72018 & -2.727828 & 0.5485598 & -4.972708 & 6.602414e-07 & 4.281500e-03\\\\\n\tB4GALT5 & 1381.67699 & -1.471832 & 0.3334301 & -4.414216 & 1.013768e-05 & 2.652707e-02\\\\\n\\end{tabular}\n",
            "text/markdown": "\nA data.frame: 4 × 6\n\n| <!--/--> | baseMean &lt;dbl&gt; | log2FoldChange &lt;dbl&gt; | lfcSE &lt;dbl&gt; | stat &lt;dbl&gt; | pvalue &lt;dbl&gt; | padj &lt;dbl&gt; |\n|---|---|---|---|---|---|---|\n| S100P |  108.70423 | -3.085421 | 0.4563657 | -6.760854 | 1.371811e-11 | 3.558340e-07 |\n| RIMBP3B |   46.73891 | -8.258848 | 1.5713419 | -5.255921 | 1.472858e-07 | 1.910223e-03 |\n| VNN1 |  560.72018 | -2.727828 | 0.5485598 | -4.972708 | 6.602414e-07 | 4.281500e-03 |\n| B4GALT5 | 1381.67699 | -1.471832 | 0.3334301 | -4.414216 | 1.013768e-05 | 2.652707e-02 |\n\n",
            "text/html": [
              "<table class=\"dataframe\">\n",
              "<caption>A data.frame: 4 × 6</caption>\n",
              "<thead>\n",
              "\t<tr><th></th><th scope=col>baseMean</th><th scope=col>log2FoldChange</th><th scope=col>lfcSE</th><th scope=col>stat</th><th scope=col>pvalue</th><th scope=col>padj</th></tr>\n",
              "\t<tr><th></th><th scope=col>&lt;dbl&gt;</th><th scope=col>&lt;dbl&gt;</th><th scope=col>&lt;dbl&gt;</th><th scope=col>&lt;dbl&gt;</th><th scope=col>&lt;dbl&gt;</th><th scope=col>&lt;dbl&gt;</th></tr>\n",
              "</thead>\n",
              "<tbody>\n",
              "\t<tr><th scope=row>S100P</th><td> 108.70423</td><td>-3.085421</td><td>0.4563657</td><td>-6.760854</td><td>1.371811e-11</td><td>3.558340e-07</td></tr>\n",
              "\t<tr><th scope=row>RIMBP3B</th><td>  46.73891</td><td>-8.258848</td><td>1.5713419</td><td>-5.255921</td><td>1.472858e-07</td><td>1.910223e-03</td></tr>\n",
              "\t<tr><th scope=row>VNN1</th><td> 560.72018</td><td>-2.727828</td><td>0.5485598</td><td>-4.972708</td><td>6.602414e-07</td><td>4.281500e-03</td></tr>\n",
              "\t<tr><th scope=row>B4GALT5</th><td>1381.67699</td><td>-1.471832</td><td>0.3334301</td><td>-4.414216</td><td>1.013768e-05</td><td>2.652707e-02</td></tr>\n",
              "</tbody>\n",
              "</table>\n"
            ]
          },
          "metadata": {}
        }
      ]
    },
    {
      "cell_type": "code",
      "source": [
        "#Write results of significantly upreguated  genes into a file\n",
        "#write the file WITH FIRST AS ID.\n",
        "write.table(data.frame('ID'=rownames(upreg_features), upreg_features),file=\"GSE178967_4sev_4asymp_upreg.txt\",sep='\\t',quote = F,row.names = FALSE)\n",
        "#write.table(upreg_features,file=\"/content/GSE178967_sev_asym_padj_0.05_upreg_features.txt\", sep='\\t',  quote = F,row.names = T)"
      ],
      "metadata": {
        "id": "5cRLFujE5kQ_"
      },
      "execution_count": null,
      "outputs": []
    },
    {
      "cell_type": "code",
      "source": [
        "#Write results of significantly downreguated  genes  into a file\n",
        "#write.table(downreg_features,file=\"/content/GSE178967_sev_asym_padj_0.05_downreg_features.txt\", sep='\\t',  quote = F,row.names = T)\n",
        "\n",
        "#write the file WITH FIRST AS ID.\n",
        "write.table(data.frame('ID'=rownames(downreg_features), downreg_features),file=\"GSE178967_4sev_4asymp_downreg.txt\",sep='\\t',quote = F,row.names = FALSE)\n",
        "\n",
        "\n"
      ],
      "metadata": {
        "id": "h9gn87CR5kD1"
      },
      "execution_count": null,
      "outputs": []
    },
    {
      "cell_type": "markdown",
      "source": [
        "vst"
      ],
      "metadata": {
        "id": "8FqOriIi5r8b"
      }
    },
    {
      "cell_type": "code",
      "source": [
        "#First we need to transform the raw count data\n",
        "#vst function will perform variance stabilizing transformation (VST)\n",
        "#dds is deseq2dataset created in one of the above step.\n",
        "\n",
        "vsdata <- vst(dds, blind=FALSE)\n",
        "vsd <- vst(dds, blind=FALSE)\n",
        "rld <- rlog(dds, blind=FALSE)\n",
        "head(assay(vsd), 3)"
      ],
      "metadata": {
        "colab": {
          "base_uri": "https://localhost:8080/",
          "height": 181
        },
        "id": "aYHZbAue5rEq",
        "outputId": "f1f96a68-a0b6-41a6-ddde-b140013bad57"
      },
      "execution_count": null,
      "outputs": [
        {
          "output_type": "display_data",
          "data": {
            "text/plain": [
              "     L_001_00 L_142_00 L_148_00 L_150_00 L_313_00 L_318_00 L_344_00 L_006_00\n",
              "A1BG 5.532435 5.435789 5.397818 5.305047 4.691329 5.296085 4.990755 5.048005\n",
              "A1CF 3.465043 3.332043 3.443606 3.387150 2.983112 3.548910 3.181283 3.263578\n",
              "A2M  5.160936 6.109316 6.095235 7.077576 6.740540 6.348774 6.240826 4.751484\n",
              "     L_118_00 L_174_00 L_301_00 L_303_00 L_311_00 L_325_00 L_329_00\n",
              "A1BG 5.133163 5.558367 5.270838 5.141194 5.297057 5.694713 4.366465\n",
              "A1CF 3.208563 3.775568 3.598312 3.347140 3.375429 3.583652 3.016008\n",
              "A2M  6.111373 6.178414 7.034126 6.610783 5.254696 5.694713 4.769505"
            ],
            "text/latex": "A matrix: 3 × 15 of type dbl\n\\begin{tabular}{r|lllllllllllllll}\n  & L\\_001\\_00 & L\\_142\\_00 & L\\_148\\_00 & L\\_150\\_00 & L\\_313\\_00 & L\\_318\\_00 & L\\_344\\_00 & L\\_006\\_00 & L\\_118\\_00 & L\\_174\\_00 & L\\_301\\_00 & L\\_303\\_00 & L\\_311\\_00 & L\\_325\\_00 & L\\_329\\_00\\\\\n\\hline\n\tA1BG & 5.532435 & 5.435789 & 5.397818 & 5.305047 & 4.691329 & 5.296085 & 4.990755 & 5.048005 & 5.133163 & 5.558367 & 5.270838 & 5.141194 & 5.297057 & 5.694713 & 4.366465\\\\\n\tA1CF & 3.465043 & 3.332043 & 3.443606 & 3.387150 & 2.983112 & 3.548910 & 3.181283 & 3.263578 & 3.208563 & 3.775568 & 3.598312 & 3.347140 & 3.375429 & 3.583652 & 3.016008\\\\\n\tA2M & 5.160936 & 6.109316 & 6.095235 & 7.077576 & 6.740540 & 6.348774 & 6.240826 & 4.751484 & 6.111373 & 6.178414 & 7.034126 & 6.610783 & 5.254696 & 5.694713 & 4.769505\\\\\n\\end{tabular}\n",
            "text/markdown": "\nA matrix: 3 × 15 of type dbl\n\n| <!--/--> | L_001_00 | L_142_00 | L_148_00 | L_150_00 | L_313_00 | L_318_00 | L_344_00 | L_006_00 | L_118_00 | L_174_00 | L_301_00 | L_303_00 | L_311_00 | L_325_00 | L_329_00 |\n|---|---|---|---|---|---|---|---|---|---|---|---|---|---|---|---|\n| A1BG | 5.532435 | 5.435789 | 5.397818 | 5.305047 | 4.691329 | 5.296085 | 4.990755 | 5.048005 | 5.133163 | 5.558367 | 5.270838 | 5.141194 | 5.297057 | 5.694713 | 4.366465 |\n| A1CF | 3.465043 | 3.332043 | 3.443606 | 3.387150 | 2.983112 | 3.548910 | 3.181283 | 3.263578 | 3.208563 | 3.775568 | 3.598312 | 3.347140 | 3.375429 | 3.583652 | 3.016008 |\n| A2M | 5.160936 | 6.109316 | 6.095235 | 7.077576 | 6.740540 | 6.348774 | 6.240826 | 4.751484 | 6.111373 | 6.178414 | 7.034126 | 6.610783 | 5.254696 | 5.694713 | 4.769505 |\n\n",
            "text/html": [
              "<table class=\"dataframe\">\n",
              "<caption>A matrix: 3 × 15 of type dbl</caption>\n",
              "<thead>\n",
              "\t<tr><th></th><th scope=col>L_001_00</th><th scope=col>L_142_00</th><th scope=col>L_148_00</th><th scope=col>L_150_00</th><th scope=col>L_313_00</th><th scope=col>L_318_00</th><th scope=col>L_344_00</th><th scope=col>L_006_00</th><th scope=col>L_118_00</th><th scope=col>L_174_00</th><th scope=col>L_301_00</th><th scope=col>L_303_00</th><th scope=col>L_311_00</th><th scope=col>L_325_00</th><th scope=col>L_329_00</th></tr>\n",
              "</thead>\n",
              "<tbody>\n",
              "\t<tr><th scope=row>A1BG</th><td>5.532435</td><td>5.435789</td><td>5.397818</td><td>5.305047</td><td>4.691329</td><td>5.296085</td><td>4.990755</td><td>5.048005</td><td>5.133163</td><td>5.558367</td><td>5.270838</td><td>5.141194</td><td>5.297057</td><td>5.694713</td><td>4.366465</td></tr>\n",
              "\t<tr><th scope=row>A1CF</th><td>3.465043</td><td>3.332043</td><td>3.443606</td><td>3.387150</td><td>2.983112</td><td>3.548910</td><td>3.181283</td><td>3.263578</td><td>3.208563</td><td>3.775568</td><td>3.598312</td><td>3.347140</td><td>3.375429</td><td>3.583652</td><td>3.016008</td></tr>\n",
              "\t<tr><th scope=row>A2M</th><td>5.160936</td><td>6.109316</td><td>6.095235</td><td>7.077576</td><td>6.740540</td><td>6.348774</td><td>6.240826</td><td>4.751484</td><td>6.111373</td><td>6.178414</td><td>7.034126</td><td>6.610783</td><td>5.254696</td><td>5.694713</td><td>4.769505</td></tr>\n",
              "</tbody>\n",
              "</table>\n"
            ]
          },
          "metadata": {}
        }
      ]
    },
    {
      "cell_type": "code",
      "source": [
        "#First we need to transform the raw count data\n",
        "#vst function will perform variance stabilizing transformation\n",
        "#IMPORTANT TO NOT THAT WE USE dds OBJECT HERE. WHY? \n",
        "\n",
        "vsdata <- vst(dds, blind=FALSE)"
      ],
      "metadata": {
        "id": "WUVBfDig5wTS"
      },
      "execution_count": null,
      "outputs": []
    },
    {
      "cell_type": "code",
      "source": [
        "#using the DESEQ2 plotPCA fxn we can\n",
        "plotPCA(vsdata, intgroup=\"Severity\") "
      ],
      "metadata": {
        "colab": {
          "base_uri": "https://localhost:8080/",
          "height": 437
        },
        "id": "TLe10Sga5xlP",
        "outputId": "b21a5c0e-68be-4914-8f29-edeada7937c5"
      },
      "execution_count": null,
      "outputs": [
        {
          "output_type": "display_data",
          "data": {
            "image/png": "[encoded data removed]",
            "text/plain": [
              "plot without title"
            ]
          },
          "metadata": {
            "image/png": {
              "width": 420,
              "height": 420
            }
          }
        }
      ]
    },
    {
      "cell_type": "markdown",
      "source": [
        "heatmap"
      ],
      "metadata": {
        "id": "j5rRdKV15jji"
      }
    },
    {
      "cell_type": "code",
      "source": [
        "install.packages(\"pheatmap\")"
      ],
      "metadata": {
        "colab": {
          "base_uri": "https://localhost:8080/"
        },
        "id": "sR0q4ieJ6RiC",
        "outputId": "81a2f22e-9570-4490-b3c5-7a5b5ff96a25"
      },
      "execution_count": null,
      "outputs": [
        {
          "output_type": "stream",
          "name": "stderr",
          "text": [
            "Installing package into ‘/usr/local/lib/R/site-library’\n",
            "(as ‘lib’ is unspecified)\n",
            "\n"
          ]
        }
      ]
    },
    {
      "cell_type": "code",
      "source": [
        "library(pheatmap)"
      ],
      "metadata": {
        "id": "NgOWtl6f6SBd"
      },
      "execution_count": null,
      "outputs": []
    },
    {
      "cell_type": "code",
      "source": [
        "# this gives log2(n + 1)\n",
        "ntd <- normTransform(dds)"
      ],
      "metadata": {
        "id": "XBkIvzAA6UHo"
      },
      "execution_count": null,
      "outputs": []
    },
    {
      "cell_type": "code",
      "source": [
        "assay(ntd)"
      ],
      "metadata": {
        "colab": {
          "base_uri": "https://localhost:8080/",
          "height": 1000
        },
        "id": "p71cly5V6WNq",
        "outputId": "0060117b-1210-4af1-ca21-a9e7ed0e0d1c"
      },
      "execution_count": null,
      "outputs": [
        {
          "output_type": "display_data",
          "data": {
            "text/plain": [
              "         L_001_00  L_142_00  L_148_00  L_150_00 L_313_00  L_318_00 L_344_00\n",
              "A1BG     5.2022537 5.081649  5.0337756 4.915573 4.0788372 4.904058 4.500352\n",
              "A1CF     1.8927093 1.590739  1.8449842 1.717523 0.7580867 2.075767 1.233924\n",
              "A2M      4.7282035 5.891153  5.8748684 6.967661 6.6011501 6.164807 6.042181\n",
              "A2ML1    2.6840643 2.814778  2.6287690 2.748844 1.9126440 2.075767 1.889130\n",
              "A2MP1    4.0649907 4.931204  4.8514627 6.145795 5.3848623 5.621620 5.329472\n",
              "A3GALT2  2.6840643 2.946130  1.8449842 0.000000 1.9126440 0.000000 2.338047\n",
              "A4GALT   1.6647811 2.122141  2.2894613 2.148306 1.2524716 2.893628 0.000000\n",
              "A4GNT    0.6254237 0.000000  0.0000000 0.000000 0.7580867 0.000000 0.000000\n",
              "AAAS     2.6840643 2.814778  2.7725409 2.479600 2.8522418 2.075767 3.187824\n",
              "AACS     4.8142013 4.763224  4.6427324 4.771897 3.4164948 4.342989 3.719023\n",
              "AACSP1   4.7282035 4.445663  4.2093995 4.470576 3.3199359 3.793140 2.956112\n",
              "AADAC    0.0000000 0.000000  0.7208235 0.000000 0.0000000 0.000000 0.000000\n",
              "AADACL2  0.0000000 1.227345  0.0000000 0.000000 0.0000000 0.000000 0.000000\n",
              "AADACL3  2.2626276 3.066514  1.8449842 2.148306 1.2524716 0.000000 1.889130\n",
              "AADACL4  0.0000000 0.000000  0.0000000 0.000000 0.0000000 2.075767 0.000000\n",
              "AADACP1  0.0000000 0.000000  0.0000000 0.000000 0.0000000 0.000000 0.000000\n",
              "AADAT    0.6254237 0.000000  0.7208235 0.000000 0.0000000 0.000000 0.000000\n",
              "AAGAB    5.1370043 5.434720  5.3639980 5.475265 5.7972322 5.524176 5.710896\n",
              "AAK1     7.7541852 7.063874  7.2480467 7.661114 6.2147484 7.186914 6.619827\n",
              "AAMDC    2.6840643 2.509633  2.7725409 2.866703 2.5456530 2.893628 2.338047\n",
              "AAMP     4.3977045 4.690144  4.8834934 4.183117 4.7691029 4.904058 4.411486\n",
              "AANAT    2.2626276 2.670258  3.8034803 3.423179 1.9126440 2.893628 1.233924\n",
              "AAR2     4.9470354 4.832780  5.4732742 5.359398 4.7691029 5.051235 4.942294\n",
              "AARD     2.2626276 2.814778  3.1338053 2.620494 2.1558240 3.793140 1.233924\n",
              "AARS     5.0451444 5.023340  5.1956130 5.633291 4.7320580 5.306999 5.063909\n",
              "AARS2    6.4295862 6.275331  6.3916249 6.584686 5.7046567 6.098651 6.209671\n",
              "AARSD1   2.6840643 2.814778  2.6287690 2.748844 2.7070763 2.893628 2.679927\n",
              "AARSP1   0.0000000 0.000000  0.0000000 0.000000 0.0000000 2.075767 0.000000\n",
              "AASDH    3.8098190 3.977732  3.7349078 4.136944 4.2974591 4.094103 4.316785\n",
              "AASDHPPT 5.3439216 5.642689  5.4305518 5.698326 6.0738124 5.306999 6.235789\n",
              "⋮        ⋮         ⋮         ⋮         ⋮        ⋮         ⋮        ⋮       \n",
              "ZSCAN5A  2.5567910 2.5096329 2.628769  2.323442 2.1558240 2.075767 1.889130\n",
              "ZSCAN5B  0.0000000 0.7404344 0.000000  0.000000 0.0000000 0.000000 0.000000\n",
              "ZSCAN5C  0.0000000 0.0000000 0.000000  0.000000 0.0000000 0.000000 0.000000\n",
              "ZSCAN5DP 2.0894924 1.8807698 2.469067  2.479600 0.7580867 0.000000 0.000000\n",
              "ZSCAN9   2.8010142 3.4673032 3.662913  3.171607 3.6725595 3.412382 3.719023\n",
              "ZSWIM1   5.6392248 5.2938373 5.430552  5.418494 4.8404556 5.051235 4.738180\n",
              "ZSWIM2   0.0000000 0.0000000 0.000000  0.000000 0.0000000 0.000000 0.000000\n",
              "ZSWIM3   5.1590836 5.4347204 5.317859  5.399063 5.7424027 5.621620 5.063909\n",
              "ZSWIM4   4.7861012 4.5730763 5.004945  3.764253 3.8899528 5.184777 4.106408\n",
              "ZSWIM5   4.8142013 4.3058980 4.750869  5.142851 4.6549864 3.793140 5.280127\n",
              "ZSWIM5P1 0.6254237 0.0000000 0.000000  0.000000 0.0000000 0.000000 1.233924\n",
              "ZSWIM5P2 0.0000000 0.0000000 0.000000  0.000000 0.0000000 0.000000 0.000000\n",
              "ZSWIM5P3 0.0000000 0.0000000 0.000000  0.000000 0.0000000 0.000000 0.000000\n",
              "ZSWIM6   8.4531698 8.8738556 8.902876  8.671785 9.5040588 9.428688 8.542321\n",
              "ZSWIM7   3.3540692 3.3770547 3.236583  3.423179 3.8210650 2.893628 3.387420\n",
              "ZSWIM8   4.8142013 4.8991364 5.341113  4.859808 4.5735639 4.904058 4.663177\n",
              "ZSWIM9   4.6678849 4.2561296 5.004945  3.988834 3.8899528 4.094103 3.988471\n",
              "ZUP1     4.6983594 5.2938373 5.245761  5.188839 6.1175574 5.051235 5.818503\n",
              "ZW10     5.0918053 5.0233398 5.033776  5.318611 5.4995193 4.904058 5.063909\n",
              "ZWILCH   2.9091905 2.8147778 2.628769  2.866703 3.3199359 2.893628 3.387420\n",
              "ZWINT    1.6647811 1.2273453 1.557958  1.441768 1.6199945 0.000000 2.679927\n",
              "ZXDA     6.0231296 5.9857993 5.826257  6.279321 6.4266553 5.798741 6.639526\n",
              "ZXDB     7.2100566 6.7228197 6.569518  6.676318 6.8548294 6.456535 7.031193\n",
              "ZXDC     7.3747770 7.1481465 7.266383  7.019481 6.7194323 7.088086 6.538228\n",
              "ZYG11A   4.1556342 3.7084321 3.507155  3.498150 2.5456530 3.412382 2.956112\n",
              "ZYG11AP1 0.0000000 0.0000000 0.000000  0.000000 0.0000000 0.000000 0.000000\n",
              "ZYG11B   7.8590675 7.9608774 7.938652  7.724934 7.3708321 7.900629 7.443470\n",
              "ZYX      5.8024271 6.1309291 6.488528  5.046229 5.8150552 6.785724 5.673166\n",
              "ZYXP1    0.0000000 0.0000000 0.000000  0.000000 0.0000000 0.000000 0.000000\n",
              "ZZEF1    7.1887495 7.2212972 7.551972  7.464822 6.5908412 7.154718 6.658959\n",
              "         L_006_00  L_118_00  L_174_00  L_301_00 L_303_00  L_311_00 L_325_00\n",
              "A1BG     4.5778576 4.6915303 5.2343222 4.871524 4.7021540 4.905307 5.401041\n",
              "A1CF     1.4302693 1.2993457 2.5413885 2.180844 1.6256957 1.690747 2.149876\n",
              "A2M      4.1658879 5.8935296 5.9707404 6.920798 6.4580028 4.850648 5.401041\n",
              "A2ML1    2.6052360 1.9717164 2.9542124 2.180844 2.5526529 2.716024 2.149876\n",
              "A2MP1    2.7933539 5.1129906 4.5644394 5.846669 5.3690330 4.146638 3.499997\n",
              "A3GALT2  0.8855627 1.6743516 2.5413885 0.000000 1.2573765 3.137312 0.000000\n",
              "A4GALT   2.3888578 1.6743516 2.6561850 3.012278 2.5526529 2.118478 2.977425\n",
              "A4GNT    0.0000000 0.0000000 2.1292972 0.000000 0.0000000 0.000000 2.977425\n",
              "AAAS     2.1342013 2.2181398 1.9608431 2.180844 1.9188489 2.447970 2.149876\n",
              "AACS     4.0227878 4.1540876 4.5644394 4.472821 4.3553326 4.052909 4.434786\n",
              "AACSP1   4.6281659 4.6075528 4.7044155 2.180844 4.2538290 4.396032 4.647618\n",
              "AADAC    0.0000000 0.0000000 0.0000000 0.000000 0.0000000 0.000000 3.499997\n",
              "AADACL2  0.0000000 0.0000000 0.5676905 0.000000 0.0000000 0.000000 3.882798\n",
              "AADACL3  2.3888578 1.9717164 2.8615460 2.180844 1.6256957 2.447970 2.977425\n",
              "AADACL4  0.0000000 0.0000000 1.2906881 0.000000 0.0000000 0.000000 2.149876\n",
              "AADACP1  0.0000000 0.0000000 0.0000000 0.000000 0.0000000 0.000000 0.000000\n",
              "AADAT    0.0000000 0.7912608 0.5676905 0.000000 0.0000000 0.000000 0.000000\n",
              "AAGAB    6.0125995 5.7442205 5.2526834 5.552883 5.6140005 5.644469 5.618548\n",
              "AAK1     6.7058836 6.9340129 7.1958299 7.223383 7.2133887 6.693472 7.077648\n",
              "AAMDC    2.3888578 2.6121410 2.7625164 3.012278 2.5526529 2.447970 2.149876\n",
              "AAMP     4.0227878 4.6075528 4.0798831 4.871524 4.2002672 3.728498 3.882798\n",
              "AANAT    4.0961114 3.1757559 3.4757502 2.180844 3.4241486 4.541167 3.499997\n",
              "AAR2     4.9777132 4.9175964 5.3238770 5.552883 5.2685230 4.541167 5.401041\n",
              "AARD     2.3888578 2.9212984 3.1233987 2.180844 2.5526529 2.716024 3.499997\n",
              "AARS     5.7426550 5.3893200 4.9492193 5.657601 5.4400715 5.321718 5.716125\n",
              "AARS2    5.5986976 5.9795642 6.0672604 6.163575 6.1401715 5.707345 5.893465\n",
              "AARSD1   1.8247496 2.2181398 2.5413885 3.012278 2.3706717 2.118478 2.149876\n",
              "AARSP1   0.0000000 0.0000000 1.5502092 0.000000 0.7615432 0.000000 0.000000\n",
              "AASDH    3.5870416 4.0305401 4.0381525 4.472821 4.3054733 3.309315 4.185032\n",
              "AASDHPPT 5.5473324 5.8020372 5.6764789 5.657601 5.8583505 5.437512 5.893465\n",
              "⋮        ⋮         ⋮         ⋮         ⋮        ⋮         ⋮        ⋮       \n",
              "ZSCAN5A  2.134201  2.218140  2.6561850 3.012278 2.552653  2.716024 2.149876\n",
              "ZSCAN5B  0.000000  0.000000  0.5676905 0.000000 0.000000  0.000000 0.000000\n",
              "ZSCAN5C  0.000000  0.000000  0.9740138 0.000000 0.000000  0.000000 0.000000\n",
              "ZSCAN5DP 2.134201  1.674352  1.9608431 0.000000 1.257377  2.118478 2.149876\n",
              "ZSCAN9   3.244103  2.921298  3.2010901 2.180844 2.552653  3.309315 2.977425\n",
              "ZSWIM1   5.193550  5.082208  5.4244843 5.657601 4.622948  4.905307 4.647618\n",
              "ZSWIM2   0.000000  0.000000  0.5676905 0.000000 0.000000  0.000000 0.000000\n",
              "ZSWIM3   5.934786  5.683990  5.8432662 4.871524 5.462994  5.853499 5.618548\n",
              "ZSWIM4   5.438767  4.691530  4.8800386 4.472821 4.622948  5.544698 5.278611\n",
              "ZSWIM5   4.296066  4.373358  4.5644394 3.536372 4.702154  4.396032 3.499997\n",
              "ZSWIM5P1 0.000000  0.000000  0.9740138 0.000000 0.000000  0.000000 0.000000\n",
              "ZSWIM5P2 0.000000  0.000000  0.0000000 0.000000 0.000000  0.000000 0.000000\n",
              "ZSWIM5P3 0.000000  0.000000  1.2906881 0.000000 1.918849  0.000000 2.149876\n",
              "ZSWIM6   9.103734  9.158831  9.0561722 8.645166 8.851705  9.604841 8.974222\n",
              "ZSWIM7   2.959748  2.921298  2.9542124 3.012278 2.552653  2.941992 2.977425\n",
              "ZSWIM8   4.813500  4.882294  4.5347374 4.472821 4.450162  5.361357 4.833050\n",
              "ZSWIM9   4.022788  4.030540  4.1982871 4.871524 5.012955  4.317595 4.647618\n",
              "ZUP1     5.765311  5.893530  5.1388382 6.163575 5.529656  5.578727 5.893465\n",
              "ZW10     4.415464  5.229946  4.8800386 5.317451 5.132159  4.234647 4.833050\n",
              "ZWILCH   3.777396  3.895413  2.5413885 3.536372 3.599895  2.447970 2.977425\n",
              "ZWINT    2.388858  1.674352  2.2801226 0.000000 2.552653  2.447970 0.000000\n",
              "ZXDA     5.321362  5.962763  5.8432662 6.233005 5.614001  5.008780 4.997340\n",
              "ZXDB     6.121975  6.769861  6.5027080 6.878090 6.659977  6.011334 6.551872\n",
              "ZXDC     6.902651  6.907919  7.2240200 6.920798 6.810552  7.273781 7.113907\n",
              "ZYG11A   3.108920  3.287921  3.5956740 3.919984 3.424149  2.941992 3.882798\n",
              "ZYG11AP1 0.000000  0.000000  0.5676905 0.000000 0.000000  0.000000 0.000000\n",
              "ZYG11B   7.588952  7.723892  8.0003202 7.805124 7.912168  7.740096 8.090609\n",
              "ZYX      6.962697  6.238783  5.6764789 5.657601 6.236444  7.165985 6.442071\n",
              "ZYXP1    0.000000  0.000000  0.5676905 0.000000 0.000000  0.000000 0.000000\n",
              "ZZEF1    7.180630  7.236207  7.2099938 7.444396 7.213389  7.494841 7.544163\n",
              "         L_329_00 \n",
              "A1BG     3.5840645\n",
              "A1CF     0.8360703\n",
              "A2M      4.1917190\n",
              "A2ML1    1.7465462\n",
              "A2MP1    2.5137650\n",
              "A3GALT2  0.0000000\n",
              "A4GALT   1.7465462\n",
              "A4GNT    0.0000000\n",
              "AAAS     2.5137650\n",
              "AACS     3.4863736\n",
              "AACSP1   3.4863736\n",
              "AADAC    0.0000000\n",
              "AADACL2  0.0000000\n",
              "AADACL3  2.5137650\n",
              "AADACL4  0.0000000\n",
              "AADACP1  0.0000000\n",
              "AADAT    0.0000000\n",
              "AAGAB    5.8658745\n",
              "AAK1     6.3132113\n",
              "AAMDC    2.6996108\n",
              "AAMP     4.6633793\n",
              "AANAT    3.1459724\n",
              "AAR2     5.2140596\n",
              "AARD     0.8360703\n",
              "AARS     5.0182441\n",
              "AARS2    5.6572512\n",
              "AARSD1   2.3003887\n",
              "AARSP1   0.0000000\n",
              "AASDH    3.7615933\n",
              "AASDHPPT 5.8264937\n",
              "⋮        ⋮        \n",
              "ZSCAN5A  1.746546 \n",
              "ZSCAN5B  0.000000 \n",
              "ZSCAN5C  0.000000 \n",
              "ZSCAN5DP 0.000000 \n",
              "ZSCAN9   3.486374 \n",
              "ZSWIM1   4.617970 \n",
              "ZSWIM2   0.000000 \n",
              "ZSWIM3   5.657251 \n",
              "ZSWIM4   4.571085 \n",
              "ZSWIM5   4.571085 \n",
              "ZSWIM5P1 0.000000 \n",
              "ZSWIM5P2 0.000000 \n",
              "ZSWIM5P3 0.000000 \n",
              "ZSWIM6   9.574831 \n",
              "ZSWIM7   3.584065 \n",
              "ZSWIM8   4.750123 \n",
              "ZSWIM9   3.675558 \n",
              "ZUP1     6.512477 \n",
              "ZW10     4.982859 \n",
              "ZWILCH   3.675558 \n",
              "ZWINT    2.049883 \n",
              "ZXDA     6.269829 \n",
              "ZXDB     6.833726 \n",
              "ZXDC     6.461972 \n",
              "ZYG11A   2.699611 \n",
              "ZYG11AP1 0.000000 \n",
              "ZYG11B   7.096307 \n",
              "ZYX      5.826494 \n",
              "ZYXP1    0.000000 \n",
              "ZZEF1    6.382736 "
            ],
            "text/latex": "A matrix: 35587 × 15 of type dbl\n\\begin{tabular}{r|lllllllllllllll}\n  & L\\_001\\_00 & L\\_142\\_00 & L\\_148\\_00 & L\\_150\\_00 & L\\_313\\_00 & L\\_318\\_00 & L\\_344\\_00 & L\\_006\\_00 & L\\_118\\_00 & L\\_174\\_00 & L\\_301\\_00 & L\\_303\\_00 & L\\_311\\_00 & L\\_325\\_00 & L\\_329\\_00\\\\\n\\hline\n\tA1BG & 5.2022537 & 5.081649 & 5.0337756 & 4.915573 & 4.0788372 & 4.904058 & 4.500352 & 4.5778576 & 4.6915303 & 5.2343222 & 4.871524 & 4.7021540 & 4.905307 & 5.401041 & 3.5840645\\\\\n\tA1CF & 1.8927093 & 1.590739 & 1.8449842 & 1.717523 & 0.7580867 & 2.075767 & 1.233924 & 1.4302693 & 1.2993457 & 2.5413885 & 2.180844 & 1.6256957 & 1.690747 & 2.149876 & 0.8360703\\\\\n\tA2M & 4.7282035 & 5.891153 & 5.8748684 & 6.967661 & 6.6011501 & 6.164807 & 6.042181 & 4.1658879 & 5.8935296 & 5.9707404 & 6.920798 & 6.4580028 & 4.850648 & 5.401041 & 4.1917190\\\\\n\tA2ML1 & 2.6840643 & 2.814778 & 2.6287690 & 2.748844 & 1.9126440 & 2.075767 & 1.889130 & 2.6052360 & 1.9717164 & 2.9542124 & 2.180844 & 2.5526529 & 2.716024 & 2.149876 & 1.7465462\\\\\n\tA2MP1 & 4.0649907 & 4.931204 & 4.8514627 & 6.145795 & 5.3848623 & 5.621620 & 5.329472 & 2.7933539 & 5.1129906 & 4.5644394 & 5.846669 & 5.3690330 & 4.146638 & 3.499997 & 2.5137650\\\\\n\tA3GALT2 & 2.6840643 & 2.946130 & 1.8449842 & 0.000000 & 1.9126440 & 0.000000 & 2.338047 & 0.8855627 & 1.6743516 & 2.5413885 & 0.000000 & 1.2573765 & 3.137312 & 0.000000 & 0.0000000\\\\\n\tA4GALT & 1.6647811 & 2.122141 & 2.2894613 & 2.148306 & 1.2524716 & 2.893628 & 0.000000 & 2.3888578 & 1.6743516 & 2.6561850 & 3.012278 & 2.5526529 & 2.118478 & 2.977425 & 1.7465462\\\\\n\tA4GNT & 0.6254237 & 0.000000 & 0.0000000 & 0.000000 & 0.7580867 & 0.000000 & 0.000000 & 0.0000000 & 0.0000000 & 2.1292972 & 0.000000 & 0.0000000 & 0.000000 & 2.977425 & 0.0000000\\\\\n\tAAAS & 2.6840643 & 2.814778 & 2.7725409 & 2.479600 & 2.8522418 & 2.075767 & 3.187824 & 2.1342013 & 2.2181398 & 1.9608431 & 2.180844 & 1.9188489 & 2.447970 & 2.149876 & 2.5137650\\\\\n\tAACS & 4.8142013 & 4.763224 & 4.6427324 & 4.771897 & 3.4164948 & 4.342989 & 3.719023 & 4.0227878 & 4.1540876 & 4.5644394 & 4.472821 & 4.3553326 & 4.052909 & 4.434786 & 3.4863736\\\\\n\tAACSP1 & 4.7282035 & 4.445663 & 4.2093995 & 4.470576 & 3.3199359 & 3.793140 & 2.956112 & 4.6281659 & 4.6075528 & 4.7044155 & 2.180844 & 4.2538290 & 4.396032 & 4.647618 & 3.4863736\\\\\n\tAADAC & 0.0000000 & 0.000000 & 0.7208235 & 0.000000 & 0.0000000 & 0.000000 & 0.000000 & 0.0000000 & 0.0000000 & 0.0000000 & 0.000000 & 0.0000000 & 0.000000 & 3.499997 & 0.0000000\\\\\n\tAADACL2 & 0.0000000 & 1.227345 & 0.0000000 & 0.000000 & 0.0000000 & 0.000000 & 0.000000 & 0.0000000 & 0.0000000 & 0.5676905 & 0.000000 & 0.0000000 & 0.000000 & 3.882798 & 0.0000000\\\\\n\tAADACL3 & 2.2626276 & 3.066514 & 1.8449842 & 2.148306 & 1.2524716 & 0.000000 & 1.889130 & 2.3888578 & 1.9717164 & 2.8615460 & 2.180844 & 1.6256957 & 2.447970 & 2.977425 & 2.5137650\\\\\n\tAADACL4 & 0.0000000 & 0.000000 & 0.0000000 & 0.000000 & 0.0000000 & 2.075767 & 0.000000 & 0.0000000 & 0.0000000 & 1.2906881 & 0.000000 & 0.0000000 & 0.000000 & 2.149876 & 0.0000000\\\\\n\tAADACP1 & 0.0000000 & 0.000000 & 0.0000000 & 0.000000 & 0.0000000 & 0.000000 & 0.000000 & 0.0000000 & 0.0000000 & 0.0000000 & 0.000000 & 0.0000000 & 0.000000 & 0.000000 & 0.0000000\\\\\n\tAADAT & 0.6254237 & 0.000000 & 0.7208235 & 0.000000 & 0.0000000 & 0.000000 & 0.000000 & 0.0000000 & 0.7912608 & 0.5676905 & 0.000000 & 0.0000000 & 0.000000 & 0.000000 & 0.0000000\\\\\n\tAAGAB & 5.1370043 & 5.434720 & 5.3639980 & 5.475265 & 5.7972322 & 5.524176 & 5.710896 & 6.0125995 & 5.7442205 & 5.2526834 & 5.552883 & 5.6140005 & 5.644469 & 5.618548 & 5.8658745\\\\\n\tAAK1 & 7.7541852 & 7.063874 & 7.2480467 & 7.661114 & 6.2147484 & 7.186914 & 6.619827 & 6.7058836 & 6.9340129 & 7.1958299 & 7.223383 & 7.2133887 & 6.693472 & 7.077648 & 6.3132113\\\\\n\tAAMDC & 2.6840643 & 2.509633 & 2.7725409 & 2.866703 & 2.5456530 & 2.893628 & 2.338047 & 2.3888578 & 2.6121410 & 2.7625164 & 3.012278 & 2.5526529 & 2.447970 & 2.149876 & 2.6996108\\\\\n\tAAMP & 4.3977045 & 4.690144 & 4.8834934 & 4.183117 & 4.7691029 & 4.904058 & 4.411486 & 4.0227878 & 4.6075528 & 4.0798831 & 4.871524 & 4.2002672 & 3.728498 & 3.882798 & 4.6633793\\\\\n\tAANAT & 2.2626276 & 2.670258 & 3.8034803 & 3.423179 & 1.9126440 & 2.893628 & 1.233924 & 4.0961114 & 3.1757559 & 3.4757502 & 2.180844 & 3.4241486 & 4.541167 & 3.499997 & 3.1459724\\\\\n\tAAR2 & 4.9470354 & 4.832780 & 5.4732742 & 5.359398 & 4.7691029 & 5.051235 & 4.942294 & 4.9777132 & 4.9175964 & 5.3238770 & 5.552883 & 5.2685230 & 4.541167 & 5.401041 & 5.2140596\\\\\n\tAARD & 2.2626276 & 2.814778 & 3.1338053 & 2.620494 & 2.1558240 & 3.793140 & 1.233924 & 2.3888578 & 2.9212984 & 3.1233987 & 2.180844 & 2.5526529 & 2.716024 & 3.499997 & 0.8360703\\\\\n\tAARS & 5.0451444 & 5.023340 & 5.1956130 & 5.633291 & 4.7320580 & 5.306999 & 5.063909 & 5.7426550 & 5.3893200 & 4.9492193 & 5.657601 & 5.4400715 & 5.321718 & 5.716125 & 5.0182441\\\\\n\tAARS2 & 6.4295862 & 6.275331 & 6.3916249 & 6.584686 & 5.7046567 & 6.098651 & 6.209671 & 5.5986976 & 5.9795642 & 6.0672604 & 6.163575 & 6.1401715 & 5.707345 & 5.893465 & 5.6572512\\\\\n\tAARSD1 & 2.6840643 & 2.814778 & 2.6287690 & 2.748844 & 2.7070763 & 2.893628 & 2.679927 & 1.8247496 & 2.2181398 & 2.5413885 & 3.012278 & 2.3706717 & 2.118478 & 2.149876 & 2.3003887\\\\\n\tAARSP1 & 0.0000000 & 0.000000 & 0.0000000 & 0.000000 & 0.0000000 & 2.075767 & 0.000000 & 0.0000000 & 0.0000000 & 1.5502092 & 0.000000 & 0.7615432 & 0.000000 & 0.000000 & 0.0000000\\\\\n\tAASDH & 3.8098190 & 3.977732 & 3.7349078 & 4.136944 & 4.2974591 & 4.094103 & 4.316785 & 3.5870416 & 4.0305401 & 4.0381525 & 4.472821 & 4.3054733 & 3.309315 & 4.185032 & 3.7615933\\\\\n\tAASDHPPT & 5.3439216 & 5.642689 & 5.4305518 & 5.698326 & 6.0738124 & 5.306999 & 6.235789 & 5.5473324 & 5.8020372 & 5.6764789 & 5.657601 & 5.8583505 & 5.437512 & 5.893465 & 5.8264937\\\\\n\t⋮ & ⋮ & ⋮ & ⋮ & ⋮ & ⋮ & ⋮ & ⋮ & ⋮ & ⋮ & ⋮ & ⋮ & ⋮ & ⋮ & ⋮ & ⋮\\\\\n\tZSCAN5A & 2.5567910 & 2.5096329 & 2.628769 & 2.323442 & 2.1558240 & 2.075767 & 1.889130 & 2.134201 & 2.218140 & 2.6561850 & 3.012278 & 2.552653 & 2.716024 & 2.149876 & 1.746546\\\\\n\tZSCAN5B & 0.0000000 & 0.7404344 & 0.000000 & 0.000000 & 0.0000000 & 0.000000 & 0.000000 & 0.000000 & 0.000000 & 0.5676905 & 0.000000 & 0.000000 & 0.000000 & 0.000000 & 0.000000\\\\\n\tZSCAN5C & 0.0000000 & 0.0000000 & 0.000000 & 0.000000 & 0.0000000 & 0.000000 & 0.000000 & 0.000000 & 0.000000 & 0.9740138 & 0.000000 & 0.000000 & 0.000000 & 0.000000 & 0.000000\\\\\n\tZSCAN5DP & 2.0894924 & 1.8807698 & 2.469067 & 2.479600 & 0.7580867 & 0.000000 & 0.000000 & 2.134201 & 1.674352 & 1.9608431 & 0.000000 & 1.257377 & 2.118478 & 2.149876 & 0.000000\\\\\n\tZSCAN9 & 2.8010142 & 3.4673032 & 3.662913 & 3.171607 & 3.6725595 & 3.412382 & 3.719023 & 3.244103 & 2.921298 & 3.2010901 & 2.180844 & 2.552653 & 3.309315 & 2.977425 & 3.486374\\\\\n\tZSWIM1 & 5.6392248 & 5.2938373 & 5.430552 & 5.418494 & 4.8404556 & 5.051235 & 4.738180 & 5.193550 & 5.082208 & 5.4244843 & 5.657601 & 4.622948 & 4.905307 & 4.647618 & 4.617970\\\\\n\tZSWIM2 & 0.0000000 & 0.0000000 & 0.000000 & 0.000000 & 0.0000000 & 0.000000 & 0.000000 & 0.000000 & 0.000000 & 0.5676905 & 0.000000 & 0.000000 & 0.000000 & 0.000000 & 0.000000\\\\\n\tZSWIM3 & 5.1590836 & 5.4347204 & 5.317859 & 5.399063 & 5.7424027 & 5.621620 & 5.063909 & 5.934786 & 5.683990 & 5.8432662 & 4.871524 & 5.462994 & 5.853499 & 5.618548 & 5.657251\\\\\n\tZSWIM4 & 4.7861012 & 4.5730763 & 5.004945 & 3.764253 & 3.8899528 & 5.184777 & 4.106408 & 5.438767 & 4.691530 & 4.8800386 & 4.472821 & 4.622948 & 5.544698 & 5.278611 & 4.571085\\\\\n\tZSWIM5 & 4.8142013 & 4.3058980 & 4.750869 & 5.142851 & 4.6549864 & 3.793140 & 5.280127 & 4.296066 & 4.373358 & 4.5644394 & 3.536372 & 4.702154 & 4.396032 & 3.499997 & 4.571085\\\\\n\tZSWIM5P1 & 0.6254237 & 0.0000000 & 0.000000 & 0.000000 & 0.0000000 & 0.000000 & 1.233924 & 0.000000 & 0.000000 & 0.9740138 & 0.000000 & 0.000000 & 0.000000 & 0.000000 & 0.000000\\\\\n\tZSWIM5P2 & 0.0000000 & 0.0000000 & 0.000000 & 0.000000 & 0.0000000 & 0.000000 & 0.000000 & 0.000000 & 0.000000 & 0.0000000 & 0.000000 & 0.000000 & 0.000000 & 0.000000 & 0.000000\\\\\n\tZSWIM5P3 & 0.0000000 & 0.0000000 & 0.000000 & 0.000000 & 0.0000000 & 0.000000 & 0.000000 & 0.000000 & 0.000000 & 1.2906881 & 0.000000 & 1.918849 & 0.000000 & 2.149876 & 0.000000\\\\\n\tZSWIM6 & 8.4531698 & 8.8738556 & 8.902876 & 8.671785 & 9.5040588 & 9.428688 & 8.542321 & 9.103734 & 9.158831 & 9.0561722 & 8.645166 & 8.851705 & 9.604841 & 8.974222 & 9.574831\\\\\n\tZSWIM7 & 3.3540692 & 3.3770547 & 3.236583 & 3.423179 & 3.8210650 & 2.893628 & 3.387420 & 2.959748 & 2.921298 & 2.9542124 & 3.012278 & 2.552653 & 2.941992 & 2.977425 & 3.584065\\\\\n\tZSWIM8 & 4.8142013 & 4.8991364 & 5.341113 & 4.859808 & 4.5735639 & 4.904058 & 4.663177 & 4.813500 & 4.882294 & 4.5347374 & 4.472821 & 4.450162 & 5.361357 & 4.833050 & 4.750123\\\\\n\tZSWIM9 & 4.6678849 & 4.2561296 & 5.004945 & 3.988834 & 3.8899528 & 4.094103 & 3.988471 & 4.022788 & 4.030540 & 4.1982871 & 4.871524 & 5.012955 & 4.317595 & 4.647618 & 3.675558\\\\\n\tZUP1 & 4.6983594 & 5.2938373 & 5.245761 & 5.188839 & 6.1175574 & 5.051235 & 5.818503 & 5.765311 & 5.893530 & 5.1388382 & 6.163575 & 5.529656 & 5.578727 & 5.893465 & 6.512477\\\\\n\tZW10 & 5.0918053 & 5.0233398 & 5.033776 & 5.318611 & 5.4995193 & 4.904058 & 5.063909 & 4.415464 & 5.229946 & 4.8800386 & 5.317451 & 5.132159 & 4.234647 & 4.833050 & 4.982859\\\\\n\tZWILCH & 2.9091905 & 2.8147778 & 2.628769 & 2.866703 & 3.3199359 & 2.893628 & 3.387420 & 3.777396 & 3.895413 & 2.5413885 & 3.536372 & 3.599895 & 2.447970 & 2.977425 & 3.675558\\\\\n\tZWINT & 1.6647811 & 1.2273453 & 1.557958 & 1.441768 & 1.6199945 & 0.000000 & 2.679927 & 2.388858 & 1.674352 & 2.2801226 & 0.000000 & 2.552653 & 2.447970 & 0.000000 & 2.049883\\\\\n\tZXDA & 6.0231296 & 5.9857993 & 5.826257 & 6.279321 & 6.4266553 & 5.798741 & 6.639526 & 5.321362 & 5.962763 & 5.8432662 & 6.233005 & 5.614001 & 5.008780 & 4.997340 & 6.269829\\\\\n\tZXDB & 7.2100566 & 6.7228197 & 6.569518 & 6.676318 & 6.8548294 & 6.456535 & 7.031193 & 6.121975 & 6.769861 & 6.5027080 & 6.878090 & 6.659977 & 6.011334 & 6.551872 & 6.833726\\\\\n\tZXDC & 7.3747770 & 7.1481465 & 7.266383 & 7.019481 & 6.7194323 & 7.088086 & 6.538228 & 6.902651 & 6.907919 & 7.2240200 & 6.920798 & 6.810552 & 7.273781 & 7.113907 & 6.461972\\\\\n\tZYG11A & 4.1556342 & 3.7084321 & 3.507155 & 3.498150 & 2.5456530 & 3.412382 & 2.956112 & 3.108920 & 3.287921 & 3.5956740 & 3.919984 & 3.424149 & 2.941992 & 3.882798 & 2.699611\\\\\n\tZYG11AP1 & 0.0000000 & 0.0000000 & 0.000000 & 0.000000 & 0.0000000 & 0.000000 & 0.000000 & 0.000000 & 0.000000 & 0.5676905 & 0.000000 & 0.000000 & 0.000000 & 0.000000 & 0.000000\\\\\n\tZYG11B & 7.8590675 & 7.9608774 & 7.938652 & 7.724934 & 7.3708321 & 7.900629 & 7.443470 & 7.588952 & 7.723892 & 8.0003202 & 7.805124 & 7.912168 & 7.740096 & 8.090609 & 7.096307\\\\\n\tZYX & 5.8024271 & 6.1309291 & 6.488528 & 5.046229 & 5.8150552 & 6.785724 & 5.673166 & 6.962697 & 6.238783 & 5.6764789 & 5.657601 & 6.236444 & 7.165985 & 6.442071 & 5.826494\\\\\n\tZYXP1 & 0.0000000 & 0.0000000 & 0.000000 & 0.000000 & 0.0000000 & 0.000000 & 0.000000 & 0.000000 & 0.000000 & 0.5676905 & 0.000000 & 0.000000 & 0.000000 & 0.000000 & 0.000000\\\\\n\tZZEF1 & 7.1887495 & 7.2212972 & 7.551972 & 7.464822 & 6.5908412 & 7.154718 & 6.658959 & 7.180630 & 7.236207 & 7.2099938 & 7.444396 & 7.213389 & 7.494841 & 7.544163 & 6.382736\\\\\n\\end{tabular}\n",
            "text/markdown": "\nA matrix: 35587 × 15 of type dbl\n\n| <!--/--> | L_001_00 | L_142_00 | L_148_00 | L_150_00 | L_313_00 | L_318_00 | L_344_00 | L_006_00 | L_118_00 | L_174_00 | L_301_00 | L_303_00 | L_311_00 | L_325_00 | L_329_00 |\n|---|---|---|---|---|---|---|---|---|---|---|---|---|---|---|---|\n| A1BG | 5.2022537 | 5.081649 | 5.0337756 | 4.915573 | 4.0788372 | 4.904058 | 4.500352 | 4.5778576 | 4.6915303 | 5.2343222 | 4.871524 | 4.7021540 | 4.905307 | 5.401041 | 3.5840645 |\n| A1CF | 1.8927093 | 1.590739 | 1.8449842 | 1.717523 | 0.7580867 | 2.075767 | 1.233924 | 1.4302693 | 1.2993457 | 2.5413885 | 2.180844 | 1.6256957 | 1.690747 | 2.149876 | 0.8360703 |\n| A2M | 4.7282035 | 5.891153 | 5.8748684 | 6.967661 | 6.6011501 | 6.164807 | 6.042181 | 4.1658879 | 5.8935296 | 5.9707404 | 6.920798 | 6.4580028 | 4.850648 | 5.401041 | 4.1917190 |\n| A2ML1 | 2.6840643 | 2.814778 | 2.6287690 | 2.748844 | 1.9126440 | 2.075767 | 1.889130 | 2.6052360 | 1.9717164 | 2.9542124 | 2.180844 | 2.5526529 | 2.716024 | 2.149876 | 1.7465462 |\n| A2MP1 | 4.0649907 | 4.931204 | 4.8514627 | 6.145795 | 5.3848623 | 5.621620 | 5.329472 | 2.7933539 | 5.1129906 | 4.5644394 | 5.846669 | 5.3690330 | 4.146638 | 3.499997 | 2.5137650 |\n| A3GALT2 | 2.6840643 | 2.946130 | 1.8449842 | 0.000000 | 1.9126440 | 0.000000 | 2.338047 | 0.8855627 | 1.6743516 | 2.5413885 | 0.000000 | 1.2573765 | 3.137312 | 0.000000 | 0.0000000 |\n| A4GALT | 1.6647811 | 2.122141 | 2.2894613 | 2.148306 | 1.2524716 | 2.893628 | 0.000000 | 2.3888578 | 1.6743516 | 2.6561850 | 3.012278 | 2.5526529 | 2.118478 | 2.977425 | 1.7465462 |\n| A4GNT | 0.6254237 | 0.000000 | 0.0000000 | 0.000000 | 0.7580867 | 0.000000 | 0.000000 | 0.0000000 | 0.0000000 | 2.1292972 | 0.000000 | 0.0000000 | 0.000000 | 2.977425 | 0.0000000 |\n| AAAS | 2.6840643 | 2.814778 | 2.7725409 | 2.479600 | 2.8522418 | 2.075767 | 3.187824 | 2.1342013 | 2.2181398 | 1.9608431 | 2.180844 | 1.9188489 | 2.447970 | 2.149876 | 2.5137650 |\n| AACS | 4.8142013 | 4.763224 | 4.6427324 | 4.771897 | 3.4164948 | 4.342989 | 3.719023 | 4.0227878 | 4.1540876 | 4.5644394 | 4.472821 | 4.3553326 | 4.052909 | 4.434786 | 3.4863736 |\n| AACSP1 | 4.7282035 | 4.445663 | 4.2093995 | 4.470576 | 3.3199359 | 3.793140 | 2.956112 | 4.6281659 | 4.6075528 | 4.7044155 | 2.180844 | 4.2538290 | 4.396032 | 4.647618 | 3.4863736 |\n| AADAC | 0.0000000 | 0.000000 | 0.7208235 | 0.000000 | 0.0000000 | 0.000000 | 0.000000 | 0.0000000 | 0.0000000 | 0.0000000 | 0.000000 | 0.0000000 | 0.000000 | 3.499997 | 0.0000000 |\n| AADACL2 | 0.0000000 | 1.227345 | 0.0000000 | 0.000000 | 0.0000000 | 0.000000 | 0.000000 | 0.0000000 | 0.0000000 | 0.5676905 | 0.000000 | 0.0000000 | 0.000000 | 3.882798 | 0.0000000 |\n| AADACL3 | 2.2626276 | 3.066514 | 1.8449842 | 2.148306 | 1.2524716 | 0.000000 | 1.889130 | 2.3888578 | 1.9717164 | 2.8615460 | 2.180844 | 1.6256957 | 2.447970 | 2.977425 | 2.5137650 |\n| AADACL4 | 0.0000000 | 0.000000 | 0.0000000 | 0.000000 | 0.0000000 | 2.075767 | 0.000000 | 0.0000000 | 0.0000000 | 1.2906881 | 0.000000 | 0.0000000 | 0.000000 | 2.149876 | 0.0000000 |\n| AADACP1 | 0.0000000 | 0.000000 | 0.0000000 | 0.000000 | 0.0000000 | 0.000000 | 0.000000 | 0.0000000 | 0.0000000 | 0.0000000 | 0.000000 | 0.0000000 | 0.000000 | 0.000000 | 0.0000000 |\n| AADAT | 0.6254237 | 0.000000 | 0.7208235 | 0.000000 | 0.0000000 | 0.000000 | 0.000000 | 0.0000000 | 0.7912608 | 0.5676905 | 0.000000 | 0.0000000 | 0.000000 | 0.000000 | 0.0000000 |\n| AAGAB | 5.1370043 | 5.434720 | 5.3639980 | 5.475265 | 5.7972322 | 5.524176 | 5.710896 | 6.0125995 | 5.7442205 | 5.2526834 | 5.552883 | 5.6140005 | 5.644469 | 5.618548 | 5.8658745 |\n| AAK1 | 7.7541852 | 7.063874 | 7.2480467 | 7.661114 | 6.2147484 | 7.186914 | 6.619827 | 6.7058836 | 6.9340129 | 7.1958299 | 7.223383 | 7.2133887 | 6.693472 | 7.077648 | 6.3132113 |\n| AAMDC | 2.6840643 | 2.509633 | 2.7725409 | 2.866703 | 2.5456530 | 2.893628 | 2.338047 | 2.3888578 | 2.6121410 | 2.7625164 | 3.012278 | 2.5526529 | 2.447970 | 2.149876 | 2.6996108 |\n| AAMP | 4.3977045 | 4.690144 | 4.8834934 | 4.183117 | 4.7691029 | 4.904058 | 4.411486 | 4.0227878 | 4.6075528 | 4.0798831 | 4.871524 | 4.2002672 | 3.728498 | 3.882798 | 4.6633793 |\n| AANAT | 2.2626276 | 2.670258 | 3.8034803 | 3.423179 | 1.9126440 | 2.893628 | 1.233924 | 4.0961114 | 3.1757559 | 3.4757502 | 2.180844 | 3.4241486 | 4.541167 | 3.499997 | 3.1459724 |\n| AAR2 | 4.9470354 | 4.832780 | 5.4732742 | 5.359398 | 4.7691029 | 5.051235 | 4.942294 | 4.9777132 | 4.9175964 | 5.3238770 | 5.552883 | 5.2685230 | 4.541167 | 5.401041 | 5.2140596 |\n| AARD | 2.2626276 | 2.814778 | 3.1338053 | 2.620494 | 2.1558240 | 3.793140 | 1.233924 | 2.3888578 | 2.9212984 | 3.1233987 | 2.180844 | 2.5526529 | 2.716024 | 3.499997 | 0.8360703 |\n| AARS | 5.0451444 | 5.023340 | 5.1956130 | 5.633291 | 4.7320580 | 5.306999 | 5.063909 | 5.7426550 | 5.3893200 | 4.9492193 | 5.657601 | 5.4400715 | 5.321718 | 5.716125 | 5.0182441 |\n| AARS2 | 6.4295862 | 6.275331 | 6.3916249 | 6.584686 | 5.7046567 | 6.098651 | 6.209671 | 5.5986976 | 5.9795642 | 6.0672604 | 6.163575 | 6.1401715 | 5.707345 | 5.893465 | 5.6572512 |\n| AARSD1 | 2.6840643 | 2.814778 | 2.6287690 | 2.748844 | 2.7070763 | 2.893628 | 2.679927 | 1.8247496 | 2.2181398 | 2.5413885 | 3.012278 | 2.3706717 | 2.118478 | 2.149876 | 2.3003887 |\n| AARSP1 | 0.0000000 | 0.000000 | 0.0000000 | 0.000000 | 0.0000000 | 2.075767 | 0.000000 | 0.0000000 | 0.0000000 | 1.5502092 | 0.000000 | 0.7615432 | 0.000000 | 0.000000 | 0.0000000 |\n| AASDH | 3.8098190 | 3.977732 | 3.7349078 | 4.136944 | 4.2974591 | 4.094103 | 4.316785 | 3.5870416 | 4.0305401 | 4.0381525 | 4.472821 | 4.3054733 | 3.309315 | 4.185032 | 3.7615933 |\n| AASDHPPT | 5.3439216 | 5.642689 | 5.4305518 | 5.698326 | 6.0738124 | 5.306999 | 6.235789 | 5.5473324 | 5.8020372 | 5.6764789 | 5.657601 | 5.8583505 | 5.437512 | 5.893465 | 5.8264937 |\n| ⋮ | ⋮ | ⋮ | ⋮ | ⋮ | ⋮ | ⋮ | ⋮ | ⋮ | ⋮ | ⋮ | ⋮ | ⋮ | ⋮ | ⋮ | ⋮ |\n| ZSCAN5A | 2.5567910 | 2.5096329 | 2.628769 | 2.323442 | 2.1558240 | 2.075767 | 1.889130 | 2.134201 | 2.218140 | 2.6561850 | 3.012278 | 2.552653 | 2.716024 | 2.149876 | 1.746546 |\n| ZSCAN5B | 0.0000000 | 0.7404344 | 0.000000 | 0.000000 | 0.0000000 | 0.000000 | 0.000000 | 0.000000 | 0.000000 | 0.5676905 | 0.000000 | 0.000000 | 0.000000 | 0.000000 | 0.000000 |\n| ZSCAN5C | 0.0000000 | 0.0000000 | 0.000000 | 0.000000 | 0.0000000 | 0.000000 | 0.000000 | 0.000000 | 0.000000 | 0.9740138 | 0.000000 | 0.000000 | 0.000000 | 0.000000 | 0.000000 |\n| ZSCAN5DP | 2.0894924 | 1.8807698 | 2.469067 | 2.479600 | 0.7580867 | 0.000000 | 0.000000 | 2.134201 | 1.674352 | 1.9608431 | 0.000000 | 1.257377 | 2.118478 | 2.149876 | 0.000000 |\n| ZSCAN9 | 2.8010142 | 3.4673032 | 3.662913 | 3.171607 | 3.6725595 | 3.412382 | 3.719023 | 3.244103 | 2.921298 | 3.2010901 | 2.180844 | 2.552653 | 3.309315 | 2.977425 | 3.486374 |\n| ZSWIM1 | 5.6392248 | 5.2938373 | 5.430552 | 5.418494 | 4.8404556 | 5.051235 | 4.738180 | 5.193550 | 5.082208 | 5.4244843 | 5.657601 | 4.622948 | 4.905307 | 4.647618 | 4.617970 |\n| ZSWIM2 | 0.0000000 | 0.0000000 | 0.000000 | 0.000000 | 0.0000000 | 0.000000 | 0.000000 | 0.000000 | 0.000000 | 0.5676905 | 0.000000 | 0.000000 | 0.000000 | 0.000000 | 0.000000 |\n| ZSWIM3 | 5.1590836 | 5.4347204 | 5.317859 | 5.399063 | 5.7424027 | 5.621620 | 5.063909 | 5.934786 | 5.683990 | 5.8432662 | 4.871524 | 5.462994 | 5.853499 | 5.618548 | 5.657251 |\n| ZSWIM4 | 4.7861012 | 4.5730763 | 5.004945 | 3.764253 | 3.8899528 | 5.184777 | 4.106408 | 5.438767 | 4.691530 | 4.8800386 | 4.472821 | 4.622948 | 5.544698 | 5.278611 | 4.571085 |\n| ZSWIM5 | 4.8142013 | 4.3058980 | 4.750869 | 5.142851 | 4.6549864 | 3.793140 | 5.280127 | 4.296066 | 4.373358 | 4.5644394 | 3.536372 | 4.702154 | 4.396032 | 3.499997 | 4.571085 |\n| ZSWIM5P1 | 0.6254237 | 0.0000000 | 0.000000 | 0.000000 | 0.0000000 | 0.000000 | 1.233924 | 0.000000 | 0.000000 | 0.9740138 | 0.000000 | 0.000000 | 0.000000 | 0.000000 | 0.000000 |\n| ZSWIM5P2 | 0.0000000 | 0.0000000 | 0.000000 | 0.000000 | 0.0000000 | 0.000000 | 0.000000 | 0.000000 | 0.000000 | 0.0000000 | 0.000000 | 0.000000 | 0.000000 | 0.000000 | 0.000000 |\n| ZSWIM5P3 | 0.0000000 | 0.0000000 | 0.000000 | 0.000000 | 0.0000000 | 0.000000 | 0.000000 | 0.000000 | 0.000000 | 1.2906881 | 0.000000 | 1.918849 | 0.000000 | 2.149876 | 0.000000 |\n| ZSWIM6 | 8.4531698 | 8.8738556 | 8.902876 | 8.671785 | 9.5040588 | 9.428688 | 8.542321 | 9.103734 | 9.158831 | 9.0561722 | 8.645166 | 8.851705 | 9.604841 | 8.974222 | 9.574831 |\n| ZSWIM7 | 3.3540692 | 3.3770547 | 3.236583 | 3.423179 | 3.8210650 | 2.893628 | 3.387420 | 2.959748 | 2.921298 | 2.9542124 | 3.012278 | 2.552653 | 2.941992 | 2.977425 | 3.584065 |\n| ZSWIM8 | 4.8142013 | 4.8991364 | 5.341113 | 4.859808 | 4.5735639 | 4.904058 | 4.663177 | 4.813500 | 4.882294 | 4.5347374 | 4.472821 | 4.450162 | 5.361357 | 4.833050 | 4.750123 |\n| ZSWIM9 | 4.6678849 | 4.2561296 | 5.004945 | 3.988834 | 3.8899528 | 4.094103 | 3.988471 | 4.022788 | 4.030540 | 4.1982871 | 4.871524 | 5.012955 | 4.317595 | 4.647618 | 3.675558 |\n| ZUP1 | 4.6983594 | 5.2938373 | 5.245761 | 5.188839 | 6.1175574 | 5.051235 | 5.818503 | 5.765311 | 5.893530 | 5.1388382 | 6.163575 | 5.529656 | 5.578727 | 5.893465 | 6.512477 |\n| ZW10 | 5.0918053 | 5.0233398 | 5.033776 | 5.318611 | 5.4995193 | 4.904058 | 5.063909 | 4.415464 | 5.229946 | 4.8800386 | 5.317451 | 5.132159 | 4.234647 | 4.833050 | 4.982859 |\n| ZWILCH | 2.9091905 | 2.8147778 | 2.628769 | 2.866703 | 3.3199359 | 2.893628 | 3.387420 | 3.777396 | 3.895413 | 2.5413885 | 3.536372 | 3.599895 | 2.447970 | 2.977425 | 3.675558 |\n| ZWINT | 1.6647811 | 1.2273453 | 1.557958 | 1.441768 | 1.6199945 | 0.000000 | 2.679927 | 2.388858 | 1.674352 | 2.2801226 | 0.000000 | 2.552653 | 2.447970 | 0.000000 | 2.049883 |\n| ZXDA | 6.0231296 | 5.9857993 | 5.826257 | 6.279321 | 6.4266553 | 5.798741 | 6.639526 | 5.321362 | 5.962763 | 5.8432662 | 6.233005 | 5.614001 | 5.008780 | 4.997340 | 6.269829 |\n| ZXDB | 7.2100566 | 6.7228197 | 6.569518 | 6.676318 | 6.8548294 | 6.456535 | 7.031193 | 6.121975 | 6.769861 | 6.5027080 | 6.878090 | 6.659977 | 6.011334 | 6.551872 | 6.833726 |\n| ZXDC | 7.3747770 | 7.1481465 | 7.266383 | 7.019481 | 6.7194323 | 7.088086 | 6.538228 | 6.902651 | 6.907919 | 7.2240200 | 6.920798 | 6.810552 | 7.273781 | 7.113907 | 6.461972 |\n| ZYG11A | 4.1556342 | 3.7084321 | 3.507155 | 3.498150 | 2.5456530 | 3.412382 | 2.956112 | 3.108920 | 3.287921 | 3.5956740 | 3.919984 | 3.424149 | 2.941992 | 3.882798 | 2.699611 |\n| ZYG11AP1 | 0.0000000 | 0.0000000 | 0.000000 | 0.000000 | 0.0000000 | 0.000000 | 0.000000 | 0.000000 | 0.000000 | 0.5676905 | 0.000000 | 0.000000 | 0.000000 | 0.000000 | 0.000000 |\n| ZYG11B | 7.8590675 | 7.9608774 | 7.938652 | 7.724934 | 7.3708321 | 7.900629 | 7.443470 | 7.588952 | 7.723892 | 8.0003202 | 7.805124 | 7.912168 | 7.740096 | 8.090609 | 7.096307 |\n| ZYX | 5.8024271 | 6.1309291 | 6.488528 | 5.046229 | 5.8150552 | 6.785724 | 5.673166 | 6.962697 | 6.238783 | 5.6764789 | 5.657601 | 6.236444 | 7.165985 | 6.442071 | 5.826494 |\n| ZYXP1 | 0.0000000 | 0.0000000 | 0.000000 | 0.000000 | 0.0000000 | 0.000000 | 0.000000 | 0.000000 | 0.000000 | 0.5676905 | 0.000000 | 0.000000 | 0.000000 | 0.000000 | 0.000000 |\n| ZZEF1 | 7.1887495 | 7.2212972 | 7.551972 | 7.464822 | 6.5908412 | 7.154718 | 6.658959 | 7.180630 | 7.236207 | 7.2099938 | 7.444396 | 7.213389 | 7.494841 | 7.544163 | 6.382736 |\n\n",
            "text/html": [
              "<table class=\"dataframe\">\n",
              "<caption>A matrix: 35587 × 15 of type dbl</caption>\n",
              "<thead>\n",
              "\t<tr><th></th><th scope=col>L_001_00</th><th scope=col>L_142_00</th><th scope=col>L_148_00</th><th scope=col>L_150_00</th><th scope=col>L_313_00</th><th scope=col>L_318_00</th><th scope=col>L_344_00</th><th scope=col>L_006_00</th><th scope=col>L_118_00</th><th scope=col>L_174_00</th><th scope=col>L_301_00</th><th scope=col>L_303_00</th><th scope=col>L_311_00</th><th scope=col>L_325_00</th><th scope=col>L_329_00</th></tr>\n",
              "</thead>\n",
              "<tbody>\n",
              "\t<tr><th scope=row>A1BG</th><td>5.2022537</td><td>5.081649</td><td>5.0337756</td><td>4.915573</td><td>4.0788372</td><td>4.904058</td><td>4.500352</td><td>4.5778576</td><td>4.6915303</td><td>5.2343222</td><td>4.871524</td><td>4.7021540</td><td>4.905307</td><td>5.401041</td><td>3.5840645</td></tr>\n",
              "\t<tr><th scope=row>A1CF</th><td>1.8927093</td><td>1.590739</td><td>1.8449842</td><td>1.717523</td><td>0.7580867</td><td>2.075767</td><td>1.233924</td><td>1.4302693</td><td>1.2993457</td><td>2.5413885</td><td>2.180844</td><td>1.6256957</td><td>1.690747</td><td>2.149876</td><td>0.8360703</td></tr>\n",
              "\t<tr><th scope=row>A2M</th><td>4.7282035</td><td>5.891153</td><td>5.8748684</td><td>6.967661</td><td>6.6011501</td><td>6.164807</td><td>6.042181</td><td>4.1658879</td><td>5.8935296</td><td>5.9707404</td><td>6.920798</td><td>6.4580028</td><td>4.850648</td><td>5.401041</td><td>4.1917190</td></tr>\n",
              "\t<tr><th scope=row>A2ML1</th><td>2.6840643</td><td>2.814778</td><td>2.6287690</td><td>2.748844</td><td>1.9126440</td><td>2.075767</td><td>1.889130</td><td>2.6052360</td><td>1.9717164</td><td>2.9542124</td><td>2.180844</td><td>2.5526529</td><td>2.716024</td><td>2.149876</td><td>1.7465462</td></tr>\n",
              "\t<tr><th scope=row>A2MP1</th><td>4.0649907</td><td>4.931204</td><td>4.8514627</td><td>6.145795</td><td>5.3848623</td><td>5.621620</td><td>5.329472</td><td>2.7933539</td><td>5.1129906</td><td>4.5644394</td><td>5.846669</td><td>5.3690330</td><td>4.146638</td><td>3.499997</td><td>2.5137650</td></tr>\n",
              "\t<tr><th scope=row>A3GALT2</th><td>2.6840643</td><td>2.946130</td><td>1.8449842</td><td>0.000000</td><td>1.9126440</td><td>0.000000</td><td>2.338047</td><td>0.8855627</td><td>1.6743516</td><td>2.5413885</td><td>0.000000</td><td>1.2573765</td><td>3.137312</td><td>0.000000</td><td>0.0000000</td></tr>\n",
              "\t<tr><th scope=row>A4GALT</th><td>1.6647811</td><td>2.122141</td><td>2.2894613</td><td>2.148306</td><td>1.2524716</td><td>2.893628</td><td>0.000000</td><td>2.3888578</td><td>1.6743516</td><td>2.6561850</td><td>3.012278</td><td>2.5526529</td><td>2.118478</td><td>2.977425</td><td>1.7465462</td></tr>\n",
              "\t<tr><th scope=row>A4GNT</th><td>0.6254237</td><td>0.000000</td><td>0.0000000</td><td>0.000000</td><td>0.7580867</td><td>0.000000</td><td>0.000000</td><td>0.0000000</td><td>0.0000000</td><td>2.1292972</td><td>0.000000</td><td>0.0000000</td><td>0.000000</td><td>2.977425</td><td>0.0000000</td></tr>\n",
              "\t<tr><th scope=row>AAAS</th><td>2.6840643</td><td>2.814778</td><td>2.7725409</td><td>2.479600</td><td>2.8522418</td><td>2.075767</td><td>3.187824</td><td>2.1342013</td><td>2.2181398</td><td>1.9608431</td><td>2.180844</td><td>1.9188489</td><td>2.447970</td><td>2.149876</td><td>2.5137650</td></tr>\n",
              "\t<tr><th scope=row>AACS</th><td>4.8142013</td><td>4.763224</td><td>4.6427324</td><td>4.771897</td><td>3.4164948</td><td>4.342989</td><td>3.719023</td><td>4.0227878</td><td>4.1540876</td><td>4.5644394</td><td>4.472821</td><td>4.3553326</td><td>4.052909</td><td>4.434786</td><td>3.4863736</td></tr>\n",
              "\t<tr><th scope=row>AACSP1</th><td>4.7282035</td><td>4.445663</td><td>4.2093995</td><td>4.470576</td><td>3.3199359</td><td>3.793140</td><td>2.956112</td><td>4.6281659</td><td>4.6075528</td><td>4.7044155</td><td>2.180844</td><td>4.2538290</td><td>4.396032</td><td>4.647618</td><td>3.4863736</td></tr>\n",
              "\t<tr><th scope=row>AADAC</th><td>0.0000000</td><td>0.000000</td><td>0.7208235</td><td>0.000000</td><td>0.0000000</td><td>0.000000</td><td>0.000000</td><td>0.0000000</td><td>0.0000000</td><td>0.0000000</td><td>0.000000</td><td>0.0000000</td><td>0.000000</td><td>3.499997</td><td>0.0000000</td></tr>\n",
              "\t<tr><th scope=row>AADACL2</th><td>0.0000000</td><td>1.227345</td><td>0.0000000</td><td>0.000000</td><td>0.0000000</td><td>0.000000</td><td>0.000000</td><td>0.0000000</td><td>0.0000000</td><td>0.5676905</td><td>0.000000</td><td>0.0000000</td><td>0.000000</td><td>3.882798</td><td>0.0000000</td></tr>\n",
              "\t<tr><th scope=row>AADACL3</th><td>2.2626276</td><td>3.066514</td><td>1.8449842</td><td>2.148306</td><td>1.2524716</td><td>0.000000</td><td>1.889130</td><td>2.3888578</td><td>1.9717164</td><td>2.8615460</td><td>2.180844</td><td>1.6256957</td><td>2.447970</td><td>2.977425</td><td>2.5137650</td></tr>\n",
              "\t<tr><th scope=row>AADACL4</th><td>0.0000000</td><td>0.000000</td><td>0.0000000</td><td>0.000000</td><td>0.0000000</td><td>2.075767</td><td>0.000000</td><td>0.0000000</td><td>0.0000000</td><td>1.2906881</td><td>0.000000</td><td>0.0000000</td><td>0.000000</td><td>2.149876</td><td>0.0000000</td></tr>\n",
              "\t<tr><th scope=row>AADACP1</th><td>0.0000000</td><td>0.000000</td><td>0.0000000</td><td>0.000000</td><td>0.0000000</td><td>0.000000</td><td>0.000000</td><td>0.0000000</td><td>0.0000000</td><td>0.0000000</td><td>0.000000</td><td>0.0000000</td><td>0.000000</td><td>0.000000</td><td>0.0000000</td></tr>\n",
              "\t<tr><th scope=row>AADAT</th><td>0.6254237</td><td>0.000000</td><td>0.7208235</td><td>0.000000</td><td>0.0000000</td><td>0.000000</td><td>0.000000</td><td>0.0000000</td><td>0.7912608</td><td>0.5676905</td><td>0.000000</td><td>0.0000000</td><td>0.000000</td><td>0.000000</td><td>0.0000000</td></tr>\n",
              "\t<tr><th scope=row>AAGAB</th><td>5.1370043</td><td>5.434720</td><td>5.3639980</td><td>5.475265</td><td>5.7972322</td><td>5.524176</td><td>5.710896</td><td>6.0125995</td><td>5.7442205</td><td>5.2526834</td><td>5.552883</td><td>5.6140005</td><td>5.644469</td><td>5.618548</td><td>5.8658745</td></tr>\n",
              "\t<tr><th scope=row>AAK1</th><td>7.7541852</td><td>7.063874</td><td>7.2480467</td><td>7.661114</td><td>6.2147484</td><td>7.186914</td><td>6.619827</td><td>6.7058836</td><td>6.9340129</td><td>7.1958299</td><td>7.223383</td><td>7.2133887</td><td>6.693472</td><td>7.077648</td><td>6.3132113</td></tr>\n",
              "\t<tr><th scope=row>AAMDC</th><td>2.6840643</td><td>2.509633</td><td>2.7725409</td><td>2.866703</td><td>2.5456530</td><td>2.893628</td><td>2.338047</td><td>2.3888578</td><td>2.6121410</td><td>2.7625164</td><td>3.012278</td><td>2.5526529</td><td>2.447970</td><td>2.149876</td><td>2.6996108</td></tr>\n",
              "\t<tr><th scope=row>AAMP</th><td>4.3977045</td><td>4.690144</td><td>4.8834934</td><td>4.183117</td><td>4.7691029</td><td>4.904058</td><td>4.411486</td><td>4.0227878</td><td>4.6075528</td><td>4.0798831</td><td>4.871524</td><td>4.2002672</td><td>3.728498</td><td>3.882798</td><td>4.6633793</td></tr>\n",
              "\t<tr><th scope=row>AANAT</th><td>2.2626276</td><td>2.670258</td><td>3.8034803</td><td>3.423179</td><td>1.9126440</td><td>2.893628</td><td>1.233924</td><td>4.0961114</td><td>3.1757559</td><td>3.4757502</td><td>2.180844</td><td>3.4241486</td><td>4.541167</td><td>3.499997</td><td>3.1459724</td></tr>\n",
              "\t<tr><th scope=row>AAR2</th><td>4.9470354</td><td>4.832780</td><td>5.4732742</td><td>5.359398</td><td>4.7691029</td><td>5.051235</td><td>4.942294</td><td>4.9777132</td><td>4.9175964</td><td>5.3238770</td><td>5.552883</td><td>5.2685230</td><td>4.541167</td><td>5.401041</td><td>5.2140596</td></tr>\n",
              "\t<tr><th scope=row>AARD</th><td>2.2626276</td><td>2.814778</td><td>3.1338053</td><td>2.620494</td><td>2.1558240</td><td>3.793140</td><td>1.233924</td><td>2.3888578</td><td>2.9212984</td><td>3.1233987</td><td>2.180844</td><td>2.5526529</td><td>2.716024</td><td>3.499997</td><td>0.8360703</td></tr>\n",
              "\t<tr><th scope=row>AARS</th><td>5.0451444</td><td>5.023340</td><td>5.1956130</td><td>5.633291</td><td>4.7320580</td><td>5.306999</td><td>5.063909</td><td>5.7426550</td><td>5.3893200</td><td>4.9492193</td><td>5.657601</td><td>5.4400715</td><td>5.321718</td><td>5.716125</td><td>5.0182441</td></tr>\n",
              "\t<tr><th scope=row>AARS2</th><td>6.4295862</td><td>6.275331</td><td>6.3916249</td><td>6.584686</td><td>5.7046567</td><td>6.098651</td><td>6.209671</td><td>5.5986976</td><td>5.9795642</td><td>6.0672604</td><td>6.163575</td><td>6.1401715</td><td>5.707345</td><td>5.893465</td><td>5.6572512</td></tr>\n",
              "\t<tr><th scope=row>AARSD1</th><td>2.6840643</td><td>2.814778</td><td>2.6287690</td><td>2.748844</td><td>2.7070763</td><td>2.893628</td><td>2.679927</td><td>1.8247496</td><td>2.2181398</td><td>2.5413885</td><td>3.012278</td><td>2.3706717</td><td>2.118478</td><td>2.149876</td><td>2.3003887</td></tr>\n",
              "\t<tr><th scope=row>AARSP1</th><td>0.0000000</td><td>0.000000</td><td>0.0000000</td><td>0.000000</td><td>0.0000000</td><td>2.075767</td><td>0.000000</td><td>0.0000000</td><td>0.0000000</td><td>1.5502092</td><td>0.000000</td><td>0.7615432</td><td>0.000000</td><td>0.000000</td><td>0.0000000</td></tr>\n",
              "\t<tr><th scope=row>AASDH</th><td>3.8098190</td><td>3.977732</td><td>3.7349078</td><td>4.136944</td><td>4.2974591</td><td>4.094103</td><td>4.316785</td><td>3.5870416</td><td>4.0305401</td><td>4.0381525</td><td>4.472821</td><td>4.3054733</td><td>3.309315</td><td>4.185032</td><td>3.7615933</td></tr>\n",
              "\t<tr><th scope=row>AASDHPPT</th><td>5.3439216</td><td>5.642689</td><td>5.4305518</td><td>5.698326</td><td>6.0738124</td><td>5.306999</td><td>6.235789</td><td>5.5473324</td><td>5.8020372</td><td>5.6764789</td><td>5.657601</td><td>5.8583505</td><td>5.437512</td><td>5.893465</td><td>5.8264937</td></tr>\n",
              "\t<tr><th scope=row>⋮</th><td>⋮</td><td>⋮</td><td>⋮</td><td>⋮</td><td>⋮</td><td>⋮</td><td>⋮</td><td>⋮</td><td>⋮</td><td>⋮</td><td>⋮</td><td>⋮</td><td>⋮</td><td>⋮</td><td>⋮</td></tr>\n",
              "\t<tr><th scope=row>ZSCAN5A</th><td>2.5567910</td><td>2.5096329</td><td>2.628769</td><td>2.323442</td><td>2.1558240</td><td>2.075767</td><td>1.889130</td><td>2.134201</td><td>2.218140</td><td>2.6561850</td><td>3.012278</td><td>2.552653</td><td>2.716024</td><td>2.149876</td><td>1.746546</td></tr>\n",
              "\t<tr><th scope=row>ZSCAN5B</th><td>0.0000000</td><td>0.7404344</td><td>0.000000</td><td>0.000000</td><td>0.0000000</td><td>0.000000</td><td>0.000000</td><td>0.000000</td><td>0.000000</td><td>0.5676905</td><td>0.000000</td><td>0.000000</td><td>0.000000</td><td>0.000000</td><td>0.000000</td></tr>\n",
              "\t<tr><th scope=row>ZSCAN5C</th><td>0.0000000</td><td>0.0000000</td><td>0.000000</td><td>0.000000</td><td>0.0000000</td><td>0.000000</td><td>0.000000</td><td>0.000000</td><td>0.000000</td><td>0.9740138</td><td>0.000000</td><td>0.000000</td><td>0.000000</td><td>0.000000</td><td>0.000000</td></tr>\n",
              "\t<tr><th scope=row>ZSCAN5DP</th><td>2.0894924</td><td>1.8807698</td><td>2.469067</td><td>2.479600</td><td>0.7580867</td><td>0.000000</td><td>0.000000</td><td>2.134201</td><td>1.674352</td><td>1.9608431</td><td>0.000000</td><td>1.257377</td><td>2.118478</td><td>2.149876</td><td>0.000000</td></tr>\n",
              "\t<tr><th scope=row>ZSCAN9</th><td>2.8010142</td><td>3.4673032</td><td>3.662913</td><td>3.171607</td><td>3.6725595</td><td>3.412382</td><td>3.719023</td><td>3.244103</td><td>2.921298</td><td>3.2010901</td><td>2.180844</td><td>2.552653</td><td>3.309315</td><td>2.977425</td><td>3.486374</td></tr>\n",
              "\t<tr><th scope=row>ZSWIM1</th><td>5.6392248</td><td>5.2938373</td><td>5.430552</td><td>5.418494</td><td>4.8404556</td><td>5.051235</td><td>4.738180</td><td>5.193550</td><td>5.082208</td><td>5.4244843</td><td>5.657601</td><td>4.622948</td><td>4.905307</td><td>4.647618</td><td>4.617970</td></tr>\n",
              "\t<tr><th scope=row>ZSWIM2</th><td>0.0000000</td><td>0.0000000</td><td>0.000000</td><td>0.000000</td><td>0.0000000</td><td>0.000000</td><td>0.000000</td><td>0.000000</td><td>0.000000</td><td>0.5676905</td><td>0.000000</td><td>0.000000</td><td>0.000000</td><td>0.000000</td><td>0.000000</td></tr>\n",
              "\t<tr><th scope=row>ZSWIM3</th><td>5.1590836</td><td>5.4347204</td><td>5.317859</td><td>5.399063</td><td>5.7424027</td><td>5.621620</td><td>5.063909</td><td>5.934786</td><td>5.683990</td><td>5.8432662</td><td>4.871524</td><td>5.462994</td><td>5.853499</td><td>5.618548</td><td>5.657251</td></tr>\n",
              "\t<tr><th scope=row>ZSWIM4</th><td>4.7861012</td><td>4.5730763</td><td>5.004945</td><td>3.764253</td><td>3.8899528</td><td>5.184777</td><td>4.106408</td><td>5.438767</td><td>4.691530</td><td>4.8800386</td><td>4.472821</td><td>4.622948</td><td>5.544698</td><td>5.278611</td><td>4.571085</td></tr>\n",
              "\t<tr><th scope=row>ZSWIM5</th><td>4.8142013</td><td>4.3058980</td><td>4.750869</td><td>5.142851</td><td>4.6549864</td><td>3.793140</td><td>5.280127</td><td>4.296066</td><td>4.373358</td><td>4.5644394</td><td>3.536372</td><td>4.702154</td><td>4.396032</td><td>3.499997</td><td>4.571085</td></tr>\n",
              "\t<tr><th scope=row>ZSWIM5P1</th><td>0.6254237</td><td>0.0000000</td><td>0.000000</td><td>0.000000</td><td>0.0000000</td><td>0.000000</td><td>1.233924</td><td>0.000000</td><td>0.000000</td><td>0.9740138</td><td>0.000000</td><td>0.000000</td><td>0.000000</td><td>0.000000</td><td>0.000000</td></tr>\n",
              "\t<tr><th scope=row>ZSWIM5P2</th><td>0.0000000</td><td>0.0000000</td><td>0.000000</td><td>0.000000</td><td>0.0000000</td><td>0.000000</td><td>0.000000</td><td>0.000000</td><td>0.000000</td><td>0.0000000</td><td>0.000000</td><td>0.000000</td><td>0.000000</td><td>0.000000</td><td>0.000000</td></tr>\n",
              "\t<tr><th scope=row>ZSWIM5P3</th><td>0.0000000</td><td>0.0000000</td><td>0.000000</td><td>0.000000</td><td>0.0000000</td><td>0.000000</td><td>0.000000</td><td>0.000000</td><td>0.000000</td><td>1.2906881</td><td>0.000000</td><td>1.918849</td><td>0.000000</td><td>2.149876</td><td>0.000000</td></tr>\n",
              "\t<tr><th scope=row>ZSWIM6</th><td>8.4531698</td><td>8.8738556</td><td>8.902876</td><td>8.671785</td><td>9.5040588</td><td>9.428688</td><td>8.542321</td><td>9.103734</td><td>9.158831</td><td>9.0561722</td><td>8.645166</td><td>8.851705</td><td>9.604841</td><td>8.974222</td><td>9.574831</td></tr>\n",
              "\t<tr><th scope=row>ZSWIM7</th><td>3.3540692</td><td>3.3770547</td><td>3.236583</td><td>3.423179</td><td>3.8210650</td><td>2.893628</td><td>3.387420</td><td>2.959748</td><td>2.921298</td><td>2.9542124</td><td>3.012278</td><td>2.552653</td><td>2.941992</td><td>2.977425</td><td>3.584065</td></tr>\n",
              "\t<tr><th scope=row>ZSWIM8</th><td>4.8142013</td><td>4.8991364</td><td>5.341113</td><td>4.859808</td><td>4.5735639</td><td>4.904058</td><td>4.663177</td><td>4.813500</td><td>4.882294</td><td>4.5347374</td><td>4.472821</td><td>4.450162</td><td>5.361357</td><td>4.833050</td><td>4.750123</td></tr>\n",
              "\t<tr><th scope=row>ZSWIM9</th><td>4.6678849</td><td>4.2561296</td><td>5.004945</td><td>3.988834</td><td>3.8899528</td><td>4.094103</td><td>3.988471</td><td>4.022788</td><td>4.030540</td><td>4.1982871</td><td>4.871524</td><td>5.012955</td><td>4.317595</td><td>4.647618</td><td>3.675558</td></tr>\n",
              "\t<tr><th scope=row>ZUP1</th><td>4.6983594</td><td>5.2938373</td><td>5.245761</td><td>5.188839</td><td>6.1175574</td><td>5.051235</td><td>5.818503</td><td>5.765311</td><td>5.893530</td><td>5.1388382</td><td>6.163575</td><td>5.529656</td><td>5.578727</td><td>5.893465</td><td>6.512477</td></tr>\n",
              "\t<tr><th scope=row>ZW10</th><td>5.0918053</td><td>5.0233398</td><td>5.033776</td><td>5.318611</td><td>5.4995193</td><td>4.904058</td><td>5.063909</td><td>4.415464</td><td>5.229946</td><td>4.8800386</td><td>5.317451</td><td>5.132159</td><td>4.234647</td><td>4.833050</td><td>4.982859</td></tr>\n",
              "\t<tr><th scope=row>ZWILCH</th><td>2.9091905</td><td>2.8147778</td><td>2.628769</td><td>2.866703</td><td>3.3199359</td><td>2.893628</td><td>3.387420</td><td>3.777396</td><td>3.895413</td><td>2.5413885</td><td>3.536372</td><td>3.599895</td><td>2.447970</td><td>2.977425</td><td>3.675558</td></tr>\n",
              "\t<tr><th scope=row>ZWINT</th><td>1.6647811</td><td>1.2273453</td><td>1.557958</td><td>1.441768</td><td>1.6199945</td><td>0.000000</td><td>2.679927</td><td>2.388858</td><td>1.674352</td><td>2.2801226</td><td>0.000000</td><td>2.552653</td><td>2.447970</td><td>0.000000</td><td>2.049883</td></tr>\n",
              "\t<tr><th scope=row>ZXDA</th><td>6.0231296</td><td>5.9857993</td><td>5.826257</td><td>6.279321</td><td>6.4266553</td><td>5.798741</td><td>6.639526</td><td>5.321362</td><td>5.962763</td><td>5.8432662</td><td>6.233005</td><td>5.614001</td><td>5.008780</td><td>4.997340</td><td>6.269829</td></tr>\n",
              "\t<tr><th scope=row>ZXDB</th><td>7.2100566</td><td>6.7228197</td><td>6.569518</td><td>6.676318</td><td>6.8548294</td><td>6.456535</td><td>7.031193</td><td>6.121975</td><td>6.769861</td><td>6.5027080</td><td>6.878090</td><td>6.659977</td><td>6.011334</td><td>6.551872</td><td>6.833726</td></tr>\n",
              "\t<tr><th scope=row>ZXDC</th><td>7.3747770</td><td>7.1481465</td><td>7.266383</td><td>7.019481</td><td>6.7194323</td><td>7.088086</td><td>6.538228</td><td>6.902651</td><td>6.907919</td><td>7.2240200</td><td>6.920798</td><td>6.810552</td><td>7.273781</td><td>7.113907</td><td>6.461972</td></tr>\n",
              "\t<tr><th scope=row>ZYG11A</th><td>4.1556342</td><td>3.7084321</td><td>3.507155</td><td>3.498150</td><td>2.5456530</td><td>3.412382</td><td>2.956112</td><td>3.108920</td><td>3.287921</td><td>3.5956740</td><td>3.919984</td><td>3.424149</td><td>2.941992</td><td>3.882798</td><td>2.699611</td></tr>\n",
              "\t<tr><th scope=row>ZYG11AP1</th><td>0.0000000</td><td>0.0000000</td><td>0.000000</td><td>0.000000</td><td>0.0000000</td><td>0.000000</td><td>0.000000</td><td>0.000000</td><td>0.000000</td><td>0.5676905</td><td>0.000000</td><td>0.000000</td><td>0.000000</td><td>0.000000</td><td>0.000000</td></tr>\n",
              "\t<tr><th scope=row>ZYG11B</th><td>7.8590675</td><td>7.9608774</td><td>7.938652</td><td>7.724934</td><td>7.3708321</td><td>7.900629</td><td>7.443470</td><td>7.588952</td><td>7.723892</td><td>8.0003202</td><td>7.805124</td><td>7.912168</td><td>7.740096</td><td>8.090609</td><td>7.096307</td></tr>\n",
              "\t<tr><th scope=row>ZYX</th><td>5.8024271</td><td>6.1309291</td><td>6.488528</td><td>5.046229</td><td>5.8150552</td><td>6.785724</td><td>5.673166</td><td>6.962697</td><td>6.238783</td><td>5.6764789</td><td>5.657601</td><td>6.236444</td><td>7.165985</td><td>6.442071</td><td>5.826494</td></tr>\n",
              "\t<tr><th scope=row>ZYXP1</th><td>0.0000000</td><td>0.0000000</td><td>0.000000</td><td>0.000000</td><td>0.0000000</td><td>0.000000</td><td>0.000000</td><td>0.000000</td><td>0.000000</td><td>0.5676905</td><td>0.000000</td><td>0.000000</td><td>0.000000</td><td>0.000000</td><td>0.000000</td></tr>\n",
              "\t<tr><th scope=row>ZZEF1</th><td>7.1887495</td><td>7.2212972</td><td>7.551972</td><td>7.464822</td><td>6.5908412</td><td>7.154718</td><td>6.658959</td><td>7.180630</td><td>7.236207</td><td>7.2099938</td><td>7.444396</td><td>7.213389</td><td>7.494841</td><td>7.544163</td><td>6.382736</td></tr>\n",
              "</tbody>\n",
              "</table>\n"
            ]
          },
          "metadata": {}
        }
      ]
    },
    {
      "cell_type": "code",
      "source": [
        "if (!requireNamespace(\"BiocManager\", quietly = TRUE))\n",
        "    install.packages(\"BiocManager\")"
      ],
      "metadata": {
        "id": "5ui3VC6P6YNo"
      },
      "execution_count": null,
      "outputs": []
    },
    {
      "cell_type": "code",
      "source": [
        "BiocManager::install(\"vsn\")"
      ],
      "metadata": {
        "colab": {
          "base_uri": "https://localhost:8080/"
        },
        "id": "3Yj5Uuk06aIi",
        "outputId": "c7389a65-40de-4cf7-b4ae-05cbbcffd80a"
      },
      "execution_count": null,
      "outputs": [
        {
          "output_type": "stream",
          "name": "stderr",
          "text": [
            "'getOption(\"repos\")' replaces Bioconductor standard repositories, see\n",
            "'?repositories' for details\n",
            "\n",
            "replacement repositories:\n",
            "    CRAN: https://cran.rstudio.com\n",
            "\n",
            "\n",
            "Bioconductor version 3.14 (BiocManager 1.30.16), R 4.1.2 (2021-11-01)\n",
            "\n",
            "Installing package(s) 'vsn'\n",
            "\n",
            "also installing the dependencies ‘affyio’, ‘preprocessCore’, ‘affy’, ‘limma’\n",
            "\n",
            "\n",
            "Old packages: 'broom', 'cli', 'dtplyr', 'fansi', 'gert', 'jsonlite', 'Rcpp',\n",
            "  'testthat', 'class', 'foreign', 'MASS', 'nlme', 'nnet', 'spatial'\n",
            "\n"
          ]
        }
      ]
    },
    {
      "cell_type": "code",
      "source": [
        "library(\"vsn\")"
      ],
      "metadata": {
        "id": "j38911Bv6cyg"
      },
      "execution_count": null,
      "outputs": []
    },
    {
      "cell_type": "code",
      "source": [
        "install.packages(\"hexbin\") "
      ],
      "metadata": {
        "colab": {
          "base_uri": "https://localhost:8080/"
        },
        "id": "URoVXGCUCPbE",
        "outputId": "c1ef97b5-a421-49fa-9379-018c2db0a261"
      },
      "execution_count": null,
      "outputs": [
        {
          "output_type": "stream",
          "name": "stderr",
          "text": [
            "Installing package into ‘/usr/local/lib/R/site-library’\n",
            "(as ‘lib’ is unspecified)\n",
            "\n"
          ]
        }
      ]
    },
    {
      "cell_type": "code",
      "source": [
        "meanSdPlot(assay(ntd))"
      ],
      "metadata": {
        "colab": {
          "base_uri": "https://localhost:8080/",
          "height": 437
        },
        "id": "y9rKW5xc6fOA",
        "outputId": "d212dd58-c281-45c3-833d-8a4eee0e09c2"
      },
      "execution_count": null,
      "outputs": [
        {
          "output_type": "display_data",
          "data": {
            "image/png": "[encoded data removed]",
            "text/plain": [
              "plot without title"
            ]
          },
          "metadata": {
            "image/png": {
              "width": 420,
              "height": 420
            }
          }
        }
      ]
    },
    {
      "cell_type": "code",
      "source": [
        "#pheatmap\n",
        "select <- order(rowMeans(counts(dds,normalized=TRUE)),\n",
        "                decreasing=TRUE)[1:20]"
      ],
      "metadata": {
        "id": "-Unx80Fz6hSj"
      },
      "execution_count": null,
      "outputs": []
    },
    {
      "cell_type": "code",
      "source": [
        "select"
      ],
      "metadata": {
        "colab": {
          "base_uri": "https://localhost:8080/",
          "height": 52
        },
        "id": "dpV3gdw36jMI",
        "outputId": "740c5fed-a857-4787-c457-db65adc4bc3d"
      },
      "execution_count": null,
      "outputs": [
        {
          "output_type": "display_data",
          "data": {
            "text/plain": [
              " [1]  1210 16215 21330 21338 16214 16213 28818 21327 20826 14958 31679 32342\n",
              "[13] 17267 24631 20833 19732 21329 17266 20835 30772"
            ],
            "text/latex": "\\begin{enumerate*}\n\\item 1210\n\\item 16215\n\\item 21330\n\\item 21338\n\\item 16214\n\\item 16213\n\\item 28818\n\\item 21327\n\\item 20826\n\\item 14958\n\\item 31679\n\\item 32342\n\\item 17267\n\\item 24631\n\\item 20833\n\\item 19732\n\\item 21329\n\\item 17266\n\\item 20835\n\\item 30772\n\\end{enumerate*}\n",
            "text/markdown": "1. 1210\n2. 16215\n3. 21330\n4. 21338\n5. 16214\n6. 16213\n7. 28818\n8. 21327\n9. 20826\n10. 14958\n11. 31679\n12. 32342\n13. 17267\n14. 24631\n15. 20833\n16. 19732\n17. 21329\n18. 17266\n19. 20835\n20. 30772\n\n\n",
            "text/html": [
              "<style>\n",
              ".list-inline {list-style: none; margin:0; padding: 0}\n",
              ".list-inline>li {display: inline-block}\n",
              ".list-inline>li:not(:last-child)::after {content: \"\\00b7\"; padding: 0 .5ex}\n",
              "</style>\n",
              "<ol class=list-inline><li>1210</li><li>16215</li><li>21330</li><li>21338</li><li>16214</li><li>16213</li><li>28818</li><li>21327</li><li>20826</li><li>14958</li><li>31679</li><li>32342</li><li>17267</li><li>24631</li><li>20833</li><li>19732</li><li>21329</li><li>17266</li><li>20835</li><li>30772</li></ol>\n"
            ]
          },
          "metadata": {}
        }
      ]
    },
    {
      "cell_type": "code",
      "source": [
        "df <- as.data.frame(colData(dds)[\"Severity\"])"
      ],
      "metadata": {
        "id": "n1IA9upF6lmI"
      },
      "execution_count": null,
      "outputs": []
    },
    {
      "cell_type": "code",
      "source": [
        "head(df)"
      ],
      "metadata": {
        "colab": {
          "base_uri": "https://localhost:8080/",
          "height": 286
        },
        "id": "nQwXLtMl6oKo",
        "outputId": "94e46fb6-9d0a-4917-ef39-6b956f61cd27"
      },
      "execution_count": null,
      "outputs": [
        {
          "output_type": "display_data",
          "data": {
            "text/plain": [
              "         Severity    \n",
              "L_001_00 Asymptomatic\n",
              "L_142_00 Asymptomatic\n",
              "L_148_00 Asymptomatic\n",
              "L_150_00 Asymptomatic\n",
              "L_313_00 Asymptomatic\n",
              "L_318_00 Asymptomatic"
            ],
            "text/latex": "A data.frame: 6 × 1\n\\begin{tabular}{r|l}\n  & Severity\\\\\n  & <fct>\\\\\n\\hline\n\tL\\_001\\_00 & Asymptomatic\\\\\n\tL\\_142\\_00 & Asymptomatic\\\\\n\tL\\_148\\_00 & Asymptomatic\\\\\n\tL\\_150\\_00 & Asymptomatic\\\\\n\tL\\_313\\_00 & Asymptomatic\\\\\n\tL\\_318\\_00 & Asymptomatic\\\\\n\\end{tabular}\n",
            "text/markdown": "\nA data.frame: 6 × 1\n\n| <!--/--> | Severity &lt;fct&gt; |\n|---|---|\n| L_001_00 | Asymptomatic |\n| L_142_00 | Asymptomatic |\n| L_148_00 | Asymptomatic |\n| L_150_00 | Asymptomatic |\n| L_313_00 | Asymptomatic |\n| L_318_00 | Asymptomatic |\n\n",
            "text/html": [
              "<table class=\"dataframe\">\n",
              "<caption>A data.frame: 6 × 1</caption>\n",
              "<thead>\n",
              "\t<tr><th></th><th scope=col>Severity</th></tr>\n",
              "\t<tr><th></th><th scope=col>&lt;fct&gt;</th></tr>\n",
              "</thead>\n",
              "<tbody>\n",
              "\t<tr><th scope=row>L_001_00</th><td>Asymptomatic</td></tr>\n",
              "\t<tr><th scope=row>L_142_00</th><td>Asymptomatic</td></tr>\n",
              "\t<tr><th scope=row>L_148_00</th><td>Asymptomatic</td></tr>\n",
              "\t<tr><th scope=row>L_150_00</th><td>Asymptomatic</td></tr>\n",
              "\t<tr><th scope=row>L_313_00</th><td>Asymptomatic</td></tr>\n",
              "\t<tr><th scope=row>L_318_00</th><td>Asymptomatic</td></tr>\n",
              "</tbody>\n",
              "</table>\n"
            ]
          },
          "metadata": {}
        }
      ]
    },
    {
      "cell_type": "code",
      "source": [
        "pheatmap(assay(ntd)[select,], cluster_rows=FALSE, show_rownames=T, cluster_cols=FALSE, annotation_col=df)"
      ],
      "metadata": {
        "colab": {
          "base_uri": "https://localhost:8080/",
          "height": 437
        },
        "id": "JG4O2Gzx6quI",
        "outputId": "a7a48a85-b5f8-494f-fd18-5331943286ea"
      },
      "execution_count": null,
      "outputs": [
        {
          "output_type": "display_data",
          "data": {
            "image/png": "[encoded data removed]",
            "text/plain": [
              "plot without title"
            ]
          },
          "metadata": {
            "image/png": {
              "width": 420,
              "height": 420
            }
          }
        }
      ]
    },
    {
      "cell_type": "code",
      "source": [
        "Deseq_norm <- as.data.frame(assay(ntd))"
      ],
      "metadata": {
        "id": "ehDPpZZL6ss9"
      },
      "execution_count": null,
      "outputs": []
    },
    {
      "cell_type": "code",
      "source": [
        "dim(Deseq_norm )"
      ],
      "metadata": {
        "colab": {
          "base_uri": "https://localhost:8080/",
          "height": 34
        },
        "id": "VktooiaM6uaX",
        "outputId": "50b42951-4053-492a-e3c4-5b9aed08a5b7"
      },
      "execution_count": null,
      "outputs": [
        {
          "output_type": "display_data",
          "data": {
            "text/plain": [
              "[1] 35587    15"
            ],
            "text/latex": "\\begin{enumerate*}\n\\item 35587\n\\item 15\n\\end{enumerate*}\n",
            "text/markdown": "1. 35587\n2. 15\n\n\n",
            "text/html": [
              "<style>\n",
              ".list-inline {list-style: none; margin:0; padding: 0}\n",
              ".list-inline>li {display: inline-block}\n",
              ".list-inline>li:not(:last-child)::after {content: \"\\00b7\"; padding: 0 .5ex}\n",
              "</style>\n",
              "<ol class=list-inline><li>35587</li><li>15</li></ol>\n"
            ]
          },
          "metadata": {}
        }
      ]
    },
    {
      "cell_type": "code",
      "source": [
        "#wrtite into a file\n",
        "write.table(Deseq_norm, file=\"/content/DESEQ_NORM.txt\", sep='\\t',  quote = F)"
      ],
      "metadata": {
        "id": "o6W6XFRi6yp0"
      },
      "execution_count": null,
      "outputs": []
    }
  ]
}